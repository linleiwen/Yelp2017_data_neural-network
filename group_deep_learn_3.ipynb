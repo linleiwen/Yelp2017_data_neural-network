{
 "cells": [
  {
   "cell_type": "code",
   "execution_count": 1,
   "metadata": {
    "collapsed": true
   },
   "outputs": [],
   "source": [
    "import numpy as np\n",
    "import pandas as pd"
   ]
  },
  {
   "cell_type": "code",
   "execution_count": 2,
   "metadata": {
    "collapsed": true
   },
   "outputs": [],
   "source": [
    "table = pd.read_pickle(\"dataset/table_whole.pickle\")"
   ]
  },
  {
   "cell_type": "code",
   "execution_count": 3,
   "metadata": {},
   "outputs": [
    {
     "data": {
      "text/html": [
       "<div>\n",
       "<style>\n",
       "    .dataframe thead tr:only-child th {\n",
       "        text-align: right;\n",
       "    }\n",
       "\n",
       "    .dataframe thead th {\n",
       "        text-align: left;\n",
       "    }\n",
       "\n",
       "    .dataframe tbody tr th {\n",
       "        vertical-align: top;\n",
       "    }\n",
       "</style>\n",
       "<table border=\"1\" class=\"dataframe\">\n",
       "  <thead>\n",
       "    <tr style=\"text-align: right;\">\n",
       "      <th></th>\n",
       "      <th></th>\n",
       "      <th>business_review_count</th>\n",
       "      <th>avg_business_stars</th>\n",
       "      <th>location</th>\n",
       "      <th>RestaurantsPriceRange2</th>\n",
       "      <th>RestaurantsTakeOut</th>\n",
       "      <th>RestaurantsGoodForGroups</th>\n",
       "      <th>BusinessAcceptsCreditCards</th>\n",
       "      <th>GoodForKids</th>\n",
       "      <th>RestaurantsAttire</th>\n",
       "      <th>RestaurantsReservations</th>\n",
       "      <th>...</th>\n",
       "      <th>cool</th>\n",
       "      <th>elite</th>\n",
       "      <th>fans</th>\n",
       "      <th>friends</th>\n",
       "      <th>funny</th>\n",
       "      <th>user_review_count</th>\n",
       "      <th>useful</th>\n",
       "      <th>yelping_since</th>\n",
       "      <th>likes</th>\n",
       "      <th>num_photos</th>\n",
       "    </tr>\n",
       "    <tr>\n",
       "      <th>business_id</th>\n",
       "      <th>review_id</th>\n",
       "      <th></th>\n",
       "      <th></th>\n",
       "      <th></th>\n",
       "      <th></th>\n",
       "      <th></th>\n",
       "      <th></th>\n",
       "      <th></th>\n",
       "      <th></th>\n",
       "      <th></th>\n",
       "      <th></th>\n",
       "      <th></th>\n",
       "      <th></th>\n",
       "      <th></th>\n",
       "      <th></th>\n",
       "      <th></th>\n",
       "      <th></th>\n",
       "      <th></th>\n",
       "      <th></th>\n",
       "      <th></th>\n",
       "      <th></th>\n",
       "      <th></th>\n",
       "    </tr>\n",
       "  </thead>\n",
       "  <tbody>\n",
       "    <tr>\n",
       "      <th rowspan=\"5\" valign=\"top\">KbLI0QELlAwbfDUVwo43DQ</th>\n",
       "      <th>HpqaGoLFaio3PZobs_dhew</th>\n",
       "      <td>222</td>\n",
       "      <td>4.0</td>\n",
       "      <td>Charlotte,NC</td>\n",
       "      <td>2.0</td>\n",
       "      <td>1</td>\n",
       "      <td>1</td>\n",
       "      <td>1</td>\n",
       "      <td>1</td>\n",
       "      <td>casual</td>\n",
       "      <td>0</td>\n",
       "      <td>...</td>\n",
       "      <td>0</td>\n",
       "      <td>0</td>\n",
       "      <td>0</td>\n",
       "      <td>45</td>\n",
       "      <td>2</td>\n",
       "      <td>16</td>\n",
       "      <td>5</td>\n",
       "      <td>1332892800000000000</td>\n",
       "      <td>0</td>\n",
       "      <td>2</td>\n",
       "    </tr>\n",
       "    <tr>\n",
       "      <th>mzFgl5bYVhytcdOd7J9kLw</th>\n",
       "      <td>222</td>\n",
       "      <td>4.0</td>\n",
       "      <td>Charlotte,NC</td>\n",
       "      <td>2.0</td>\n",
       "      <td>1</td>\n",
       "      <td>1</td>\n",
       "      <td>1</td>\n",
       "      <td>1</td>\n",
       "      <td>casual</td>\n",
       "      <td>0</td>\n",
       "      <td>...</td>\n",
       "      <td>86</td>\n",
       "      <td>2</td>\n",
       "      <td>44</td>\n",
       "      <td>188</td>\n",
       "      <td>36</td>\n",
       "      <td>700</td>\n",
       "      <td>43</td>\n",
       "      <td>1441756800000000000</td>\n",
       "      <td>0</td>\n",
       "      <td>2</td>\n",
       "    </tr>\n",
       "    <tr>\n",
       "      <th>lSpQGob-ceMRQvKBadkdZQ</th>\n",
       "      <td>222</td>\n",
       "      <td>4.0</td>\n",
       "      <td>Charlotte,NC</td>\n",
       "      <td>2.0</td>\n",
       "      <td>1</td>\n",
       "      <td>1</td>\n",
       "      <td>1</td>\n",
       "      <td>1</td>\n",
       "      <td>casual</td>\n",
       "      <td>0</td>\n",
       "      <td>...</td>\n",
       "      <td>1111</td>\n",
       "      <td>9</td>\n",
       "      <td>127</td>\n",
       "      <td>398</td>\n",
       "      <td>782</td>\n",
       "      <td>2140</td>\n",
       "      <td>2349</td>\n",
       "      <td>1103414400000000000</td>\n",
       "      <td>0</td>\n",
       "      <td>2</td>\n",
       "    </tr>\n",
       "    <tr>\n",
       "      <th>FOBYZZBsWsTnn4gu1prCcg</th>\n",
       "      <td>222</td>\n",
       "      <td>4.0</td>\n",
       "      <td>Charlotte,NC</td>\n",
       "      <td>2.0</td>\n",
       "      <td>1</td>\n",
       "      <td>1</td>\n",
       "      <td>1</td>\n",
       "      <td>1</td>\n",
       "      <td>casual</td>\n",
       "      <td>0</td>\n",
       "      <td>...</td>\n",
       "      <td>18</td>\n",
       "      <td>5</td>\n",
       "      <td>8</td>\n",
       "      <td>162</td>\n",
       "      <td>26</td>\n",
       "      <td>203</td>\n",
       "      <td>114</td>\n",
       "      <td>1237161600000000000</td>\n",
       "      <td>0</td>\n",
       "      <td>2</td>\n",
       "    </tr>\n",
       "    <tr>\n",
       "      <th>7C2lKvcB-fSkv8AYsuHfgg</th>\n",
       "      <td>222</td>\n",
       "      <td>4.0</td>\n",
       "      <td>Charlotte,NC</td>\n",
       "      <td>2.0</td>\n",
       "      <td>1</td>\n",
       "      <td>1</td>\n",
       "      <td>1</td>\n",
       "      <td>1</td>\n",
       "      <td>casual</td>\n",
       "      <td>0</td>\n",
       "      <td>...</td>\n",
       "      <td>12</td>\n",
       "      <td>4</td>\n",
       "      <td>18</td>\n",
       "      <td>152</td>\n",
       "      <td>5</td>\n",
       "      <td>124</td>\n",
       "      <td>21</td>\n",
       "      <td>1293840000000000000</td>\n",
       "      <td>1</td>\n",
       "      <td>2</td>\n",
       "    </tr>\n",
       "  </tbody>\n",
       "</table>\n",
       "<p>5 rows × 47 columns</p>\n",
       "</div>"
      ],
      "text/plain": [
       "                                               business_review_count  \\\n",
       "business_id            review_id                                       \n",
       "KbLI0QELlAwbfDUVwo43DQ HpqaGoLFaio3PZobs_dhew                    222   \n",
       "                       mzFgl5bYVhytcdOd7J9kLw                    222   \n",
       "                       lSpQGob-ceMRQvKBadkdZQ                    222   \n",
       "                       FOBYZZBsWsTnn4gu1prCcg                    222   \n",
       "                       7C2lKvcB-fSkv8AYsuHfgg                    222   \n",
       "\n",
       "                                               avg_business_stars  \\\n",
       "business_id            review_id                                    \n",
       "KbLI0QELlAwbfDUVwo43DQ HpqaGoLFaio3PZobs_dhew                 4.0   \n",
       "                       mzFgl5bYVhytcdOd7J9kLw                 4.0   \n",
       "                       lSpQGob-ceMRQvKBadkdZQ                 4.0   \n",
       "                       FOBYZZBsWsTnn4gu1prCcg                 4.0   \n",
       "                       7C2lKvcB-fSkv8AYsuHfgg                 4.0   \n",
       "\n",
       "                                                   location  \\\n",
       "business_id            review_id                              \n",
       "KbLI0QELlAwbfDUVwo43DQ HpqaGoLFaio3PZobs_dhew  Charlotte,NC   \n",
       "                       mzFgl5bYVhytcdOd7J9kLw  Charlotte,NC   \n",
       "                       lSpQGob-ceMRQvKBadkdZQ  Charlotte,NC   \n",
       "                       FOBYZZBsWsTnn4gu1prCcg  Charlotte,NC   \n",
       "                       7C2lKvcB-fSkv8AYsuHfgg  Charlotte,NC   \n",
       "\n",
       "                                              RestaurantsPriceRange2  \\\n",
       "business_id            review_id                                       \n",
       "KbLI0QELlAwbfDUVwo43DQ HpqaGoLFaio3PZobs_dhew                    2.0   \n",
       "                       mzFgl5bYVhytcdOd7J9kLw                    2.0   \n",
       "                       lSpQGob-ceMRQvKBadkdZQ                    2.0   \n",
       "                       FOBYZZBsWsTnn4gu1prCcg                    2.0   \n",
       "                       7C2lKvcB-fSkv8AYsuHfgg                    2.0   \n",
       "\n",
       "                                              RestaurantsTakeOut  \\\n",
       "business_id            review_id                                   \n",
       "KbLI0QELlAwbfDUVwo43DQ HpqaGoLFaio3PZobs_dhew                  1   \n",
       "                       mzFgl5bYVhytcdOd7J9kLw                  1   \n",
       "                       lSpQGob-ceMRQvKBadkdZQ                  1   \n",
       "                       FOBYZZBsWsTnn4gu1prCcg                  1   \n",
       "                       7C2lKvcB-fSkv8AYsuHfgg                  1   \n",
       "\n",
       "                                              RestaurantsGoodForGroups  \\\n",
       "business_id            review_id                                         \n",
       "KbLI0QELlAwbfDUVwo43DQ HpqaGoLFaio3PZobs_dhew                        1   \n",
       "                       mzFgl5bYVhytcdOd7J9kLw                        1   \n",
       "                       lSpQGob-ceMRQvKBadkdZQ                        1   \n",
       "                       FOBYZZBsWsTnn4gu1prCcg                        1   \n",
       "                       7C2lKvcB-fSkv8AYsuHfgg                        1   \n",
       "\n",
       "                                              BusinessAcceptsCreditCards  \\\n",
       "business_id            review_id                                           \n",
       "KbLI0QELlAwbfDUVwo43DQ HpqaGoLFaio3PZobs_dhew                          1   \n",
       "                       mzFgl5bYVhytcdOd7J9kLw                          1   \n",
       "                       lSpQGob-ceMRQvKBadkdZQ                          1   \n",
       "                       FOBYZZBsWsTnn4gu1prCcg                          1   \n",
       "                       7C2lKvcB-fSkv8AYsuHfgg                          1   \n",
       "\n",
       "                                              GoodForKids RestaurantsAttire  \\\n",
       "business_id            review_id                                              \n",
       "KbLI0QELlAwbfDUVwo43DQ HpqaGoLFaio3PZobs_dhew           1            casual   \n",
       "                       mzFgl5bYVhytcdOd7J9kLw           1            casual   \n",
       "                       lSpQGob-ceMRQvKBadkdZQ           1            casual   \n",
       "                       FOBYZZBsWsTnn4gu1prCcg           1            casual   \n",
       "                       7C2lKvcB-fSkv8AYsuHfgg           1            casual   \n",
       "\n",
       "                                              RestaurantsReservations  \\\n",
       "business_id            review_id                                        \n",
       "KbLI0QELlAwbfDUVwo43DQ HpqaGoLFaio3PZobs_dhew                       0   \n",
       "                       mzFgl5bYVhytcdOd7J9kLw                       0   \n",
       "                       lSpQGob-ceMRQvKBadkdZQ                       0   \n",
       "                       FOBYZZBsWsTnn4gu1prCcg                       0   \n",
       "                       7C2lKvcB-fSkv8AYsuHfgg                       0   \n",
       "\n",
       "                                                 ...      cool elite fans  \\\n",
       "business_id            review_id                 ...                        \n",
       "KbLI0QELlAwbfDUVwo43DQ HpqaGoLFaio3PZobs_dhew    ...         0     0    0   \n",
       "                       mzFgl5bYVhytcdOd7J9kLw    ...        86     2   44   \n",
       "                       lSpQGob-ceMRQvKBadkdZQ    ...      1111     9  127   \n",
       "                       FOBYZZBsWsTnn4gu1prCcg    ...        18     5    8   \n",
       "                       7C2lKvcB-fSkv8AYsuHfgg    ...        12     4   18   \n",
       "\n",
       "                                              friends funny user_review_count  \\\n",
       "business_id            review_id                                                \n",
       "KbLI0QELlAwbfDUVwo43DQ HpqaGoLFaio3PZobs_dhew      45     2                16   \n",
       "                       mzFgl5bYVhytcdOd7J9kLw     188    36               700   \n",
       "                       lSpQGob-ceMRQvKBadkdZQ     398   782              2140   \n",
       "                       FOBYZZBsWsTnn4gu1prCcg     162    26               203   \n",
       "                       7C2lKvcB-fSkv8AYsuHfgg     152     5               124   \n",
       "\n",
       "                                              useful        yelping_since  \\\n",
       "business_id            review_id                                            \n",
       "KbLI0QELlAwbfDUVwo43DQ HpqaGoLFaio3PZobs_dhew      5  1332892800000000000   \n",
       "                       mzFgl5bYVhytcdOd7J9kLw     43  1441756800000000000   \n",
       "                       lSpQGob-ceMRQvKBadkdZQ   2349  1103414400000000000   \n",
       "                       FOBYZZBsWsTnn4gu1prCcg    114  1237161600000000000   \n",
       "                       7C2lKvcB-fSkv8AYsuHfgg     21  1293840000000000000   \n",
       "\n",
       "                                              likes num_photos  \n",
       "business_id            review_id                                \n",
       "KbLI0QELlAwbfDUVwo43DQ HpqaGoLFaio3PZobs_dhew     0          2  \n",
       "                       mzFgl5bYVhytcdOd7J9kLw     0          2  \n",
       "                       lSpQGob-ceMRQvKBadkdZQ     0          2  \n",
       "                       FOBYZZBsWsTnn4gu1prCcg     0          2  \n",
       "                       7C2lKvcB-fSkv8AYsuHfgg     1          2  \n",
       "\n",
       "[5 rows x 47 columns]"
      ]
     },
     "execution_count": 3,
     "metadata": {},
     "output_type": "execute_result"
    }
   ],
   "source": [
    "table.head()"
   ]
  },
  {
   "cell_type": "code",
   "execution_count": 4,
   "metadata": {
    "collapsed": true
   },
   "outputs": [],
   "source": [
    "table[\"target\"] = (table.stars== 5)"
   ]
  },
  {
   "cell_type": "code",
   "execution_count": 5,
   "metadata": {},
   "outputs": [
    {
     "data": {
      "text/plain": [
       "0.35847800476348751"
      ]
     },
     "execution_count": 5,
     "metadata": {},
     "output_type": "execute_result"
    }
   ],
   "source": [
    "table[\"target\"].sum()/table[\"target\"].shape[0]"
   ]
  },
  {
   "cell_type": "markdown",
   "metadata": {},
   "source": [
    "we must drop \"stars\" as if we don't know what rating the customer is going to give."
   ]
  },
  {
   "cell_type": "code",
   "execution_count": 6,
   "metadata": {
    "collapsed": true
   },
   "outputs": [],
   "source": [
    "table.drop(\"stars\",axis = 1,inplace= True)"
   ]
  },
  {
   "cell_type": "code",
   "execution_count": 7,
   "metadata": {},
   "outputs": [
    {
     "data": {
      "text/plain": [
       "business_review_count           int64\n",
       "avg_business_stars            float64\n",
       "location                       object\n",
       "RestaurantsPriceRange2         object\n",
       "RestaurantsTakeOut             object\n",
       "RestaurantsGoodForGroups       object\n",
       "BusinessAcceptsCreditCards     object\n",
       "GoodForKids                    object\n",
       "RestaurantsAttire              object\n",
       "RestaurantsReservations        object\n",
       "OutdoorSeating                 object\n",
       "RestaurantsDelivery            object\n",
       "GoodForMeal.dinner             object\n",
       "GoodForMeal.latenight          object\n",
       "GoodForMeal.breakfast          object\n",
       "GoodForMeal.dessert            object\n",
       "GoodForMeal.brunch             object\n",
       "GoodForMeal.lunch              object\n",
       "BusinessParking.valet          object\n",
       "BusinessParking.street         object\n",
       "BusinessParking.lot            object\n",
       "BusinessParking.garage         object\n",
       "Alcohol                        object\n",
       "user_id                        object\n",
       "average_stars                 float64\n",
       "compliment_cool                 int64\n",
       "compliment_cute                 int64\n",
       "compliment_funny                int64\n",
       "compliment_hot                  int64\n",
       "compliment_list                 int64\n",
       "compliment_more                 int64\n",
       "compliment_note                 int64\n",
       "compliment_photos               int64\n",
       "compliment_plain                int64\n",
       "compliment_profile              int64\n",
       "compliment_writer               int64\n",
       "cool                            int64\n",
       "elite                           int64\n",
       "fans                            int64\n",
       "friends                         int64\n",
       "funny                           int64\n",
       "user_review_count               int64\n",
       "useful                          int64\n",
       "yelping_since                   int64\n",
       "likes                           int64\n",
       "num_photos                      int64\n",
       "target                           bool\n",
       "dtype: object"
      ]
     },
     "execution_count": 7,
     "metadata": {},
     "output_type": "execute_result"
    }
   ],
   "source": [
    "table.dtypes"
   ]
  },
  {
   "cell_type": "code",
   "execution_count": 8,
   "metadata": {},
   "outputs": [
    {
     "data": {
      "text/plain": [
       "['business_review_count',\n",
       " 'avg_business_stars',\n",
       " 'location',\n",
       " 'RestaurantsPriceRange2',\n",
       " 'RestaurantsTakeOut',\n",
       " 'RestaurantsGoodForGroups',\n",
       " 'BusinessAcceptsCreditCards',\n",
       " 'GoodForKids',\n",
       " 'RestaurantsAttire',\n",
       " 'RestaurantsReservations',\n",
       " 'OutdoorSeating',\n",
       " 'RestaurantsDelivery',\n",
       " 'GoodForMeal.dinner',\n",
       " 'GoodForMeal.latenight',\n",
       " 'GoodForMeal.breakfast',\n",
       " 'GoodForMeal.dessert',\n",
       " 'GoodForMeal.brunch',\n",
       " 'GoodForMeal.lunch',\n",
       " 'BusinessParking.valet',\n",
       " 'BusinessParking.street',\n",
       " 'BusinessParking.lot',\n",
       " 'BusinessParking.garage',\n",
       " 'Alcohol',\n",
       " 'user_id',\n",
       " 'average_stars',\n",
       " 'compliment_cool',\n",
       " 'compliment_cute',\n",
       " 'compliment_funny',\n",
       " 'compliment_hot',\n",
       " 'compliment_list',\n",
       " 'compliment_more',\n",
       " 'compliment_note',\n",
       " 'compliment_photos',\n",
       " 'compliment_plain',\n",
       " 'compliment_profile',\n",
       " 'compliment_writer',\n",
       " 'cool',\n",
       " 'elite',\n",
       " 'fans',\n",
       " 'friends',\n",
       " 'funny',\n",
       " 'user_review_count',\n",
       " 'useful',\n",
       " 'yelping_since',\n",
       " 'likes',\n",
       " 'num_photos',\n",
       " 'target']"
      ]
     },
     "execution_count": 8,
     "metadata": {},
     "output_type": "execute_result"
    }
   ],
   "source": [
    "list(table.columns)"
   ]
  },
  {
   "cell_type": "markdown",
   "metadata": {},
   "source": [
    "reorganize table and drop user id."
   ]
  },
  {
   "cell_type": "code",
   "execution_count": 9,
   "metadata": {
    "collapsed": true
   },
   "outputs": [],
   "source": [
    "table = table[\n",
    "['location',\n",
    " 'RestaurantsPriceRange2',\n",
    " 'RestaurantsTakeOut',\n",
    " 'RestaurantsGoodForGroups',\n",
    " 'BusinessAcceptsCreditCards',\n",
    " 'GoodForKids',\n",
    " 'RestaurantsAttire',\n",
    " 'RestaurantsReservations',\n",
    " 'OutdoorSeating',\n",
    " 'RestaurantsDelivery',\n",
    " 'GoodForMeal.dinner',\n",
    " 'GoodForMeal.latenight',\n",
    " 'GoodForMeal.breakfast',\n",
    " 'GoodForMeal.dessert',\n",
    " 'GoodForMeal.brunch',\n",
    " 'GoodForMeal.lunch',\n",
    " 'BusinessParking.valet',\n",
    " 'BusinessParking.street',\n",
    " 'BusinessParking.lot',\n",
    " 'BusinessParking.garage',\n",
    " 'Alcohol',\n",
    " 'business_review_count',\n",
    " 'avg_business_stars',\n",
    " 'average_stars',\n",
    " 'compliment_cool',\n",
    " 'compliment_cute',\n",
    " 'compliment_funny',\n",
    " 'compliment_hot',\n",
    " 'compliment_list',\n",
    " 'compliment_more',\n",
    " 'compliment_note',\n",
    " 'compliment_photos',\n",
    " 'compliment_plain',\n",
    " 'compliment_profile',\n",
    " 'compliment_writer',\n",
    " 'cool',\n",
    " 'elite',\n",
    " 'fans',\n",
    " 'friends',\n",
    " 'funny',\n",
    " 'user_review_count',\n",
    " 'useful',\n",
    " 'yelping_since',\n",
    " 'likes',\n",
    " 'num_photos',\n",
    " 'target']]"
   ]
  },
  {
   "cell_type": "markdown",
   "metadata": {},
   "source": [
    "# Dummy varibles transformation."
   ]
  },
  {
   "cell_type": "code",
   "execution_count": 10,
   "metadata": {},
   "outputs": [
    {
     "data": {
      "text/html": [
       "<div>\n",
       "<style>\n",
       "    .dataframe thead tr:only-child th {\n",
       "        text-align: right;\n",
       "    }\n",
       "\n",
       "    .dataframe thead th {\n",
       "        text-align: left;\n",
       "    }\n",
       "\n",
       "    .dataframe tbody tr th {\n",
       "        vertical-align: top;\n",
       "    }\n",
       "</style>\n",
       "<table border=\"1\" class=\"dataframe\">\n",
       "  <thead>\n",
       "    <tr style=\"text-align: right;\">\n",
       "      <th></th>\n",
       "      <th></th>\n",
       "      <th>location</th>\n",
       "      <th>RestaurantsPriceRange2</th>\n",
       "      <th>RestaurantsTakeOut</th>\n",
       "      <th>RestaurantsGoodForGroups</th>\n",
       "      <th>BusinessAcceptsCreditCards</th>\n",
       "      <th>GoodForKids</th>\n",
       "      <th>RestaurantsAttire</th>\n",
       "      <th>RestaurantsReservations</th>\n",
       "      <th>OutdoorSeating</th>\n",
       "      <th>RestaurantsDelivery</th>\n",
       "      <th>...</th>\n",
       "      <th>elite</th>\n",
       "      <th>fans</th>\n",
       "      <th>friends</th>\n",
       "      <th>funny</th>\n",
       "      <th>user_review_count</th>\n",
       "      <th>useful</th>\n",
       "      <th>yelping_since</th>\n",
       "      <th>likes</th>\n",
       "      <th>num_photos</th>\n",
       "      <th>target</th>\n",
       "    </tr>\n",
       "    <tr>\n",
       "      <th>business_id</th>\n",
       "      <th>review_id</th>\n",
       "      <th></th>\n",
       "      <th></th>\n",
       "      <th></th>\n",
       "      <th></th>\n",
       "      <th></th>\n",
       "      <th></th>\n",
       "      <th></th>\n",
       "      <th></th>\n",
       "      <th></th>\n",
       "      <th></th>\n",
       "      <th></th>\n",
       "      <th></th>\n",
       "      <th></th>\n",
       "      <th></th>\n",
       "      <th></th>\n",
       "      <th></th>\n",
       "      <th></th>\n",
       "      <th></th>\n",
       "      <th></th>\n",
       "      <th></th>\n",
       "      <th></th>\n",
       "    </tr>\n",
       "  </thead>\n",
       "  <tbody>\n",
       "    <tr>\n",
       "      <th rowspan=\"5\" valign=\"top\">KbLI0QELlAwbfDUVwo43DQ</th>\n",
       "      <th>HpqaGoLFaio3PZobs_dhew</th>\n",
       "      <td>Charlotte,NC</td>\n",
       "      <td>2.0</td>\n",
       "      <td>1</td>\n",
       "      <td>1</td>\n",
       "      <td>1</td>\n",
       "      <td>1</td>\n",
       "      <td>casual</td>\n",
       "      <td>0</td>\n",
       "      <td>0</td>\n",
       "      <td>0</td>\n",
       "      <td>...</td>\n",
       "      <td>0</td>\n",
       "      <td>0</td>\n",
       "      <td>45</td>\n",
       "      <td>2</td>\n",
       "      <td>16</td>\n",
       "      <td>5</td>\n",
       "      <td>1332892800000000000</td>\n",
       "      <td>0</td>\n",
       "      <td>2</td>\n",
       "      <td>False</td>\n",
       "    </tr>\n",
       "    <tr>\n",
       "      <th>mzFgl5bYVhytcdOd7J9kLw</th>\n",
       "      <td>Charlotte,NC</td>\n",
       "      <td>2.0</td>\n",
       "      <td>1</td>\n",
       "      <td>1</td>\n",
       "      <td>1</td>\n",
       "      <td>1</td>\n",
       "      <td>casual</td>\n",
       "      <td>0</td>\n",
       "      <td>0</td>\n",
       "      <td>0</td>\n",
       "      <td>...</td>\n",
       "      <td>2</td>\n",
       "      <td>44</td>\n",
       "      <td>188</td>\n",
       "      <td>36</td>\n",
       "      <td>700</td>\n",
       "      <td>43</td>\n",
       "      <td>1441756800000000000</td>\n",
       "      <td>0</td>\n",
       "      <td>2</td>\n",
       "      <td>False</td>\n",
       "    </tr>\n",
       "    <tr>\n",
       "      <th>lSpQGob-ceMRQvKBadkdZQ</th>\n",
       "      <td>Charlotte,NC</td>\n",
       "      <td>2.0</td>\n",
       "      <td>1</td>\n",
       "      <td>1</td>\n",
       "      <td>1</td>\n",
       "      <td>1</td>\n",
       "      <td>casual</td>\n",
       "      <td>0</td>\n",
       "      <td>0</td>\n",
       "      <td>0</td>\n",
       "      <td>...</td>\n",
       "      <td>9</td>\n",
       "      <td>127</td>\n",
       "      <td>398</td>\n",
       "      <td>782</td>\n",
       "      <td>2140</td>\n",
       "      <td>2349</td>\n",
       "      <td>1103414400000000000</td>\n",
       "      <td>0</td>\n",
       "      <td>2</td>\n",
       "      <td>False</td>\n",
       "    </tr>\n",
       "    <tr>\n",
       "      <th>FOBYZZBsWsTnn4gu1prCcg</th>\n",
       "      <td>Charlotte,NC</td>\n",
       "      <td>2.0</td>\n",
       "      <td>1</td>\n",
       "      <td>1</td>\n",
       "      <td>1</td>\n",
       "      <td>1</td>\n",
       "      <td>casual</td>\n",
       "      <td>0</td>\n",
       "      <td>0</td>\n",
       "      <td>0</td>\n",
       "      <td>...</td>\n",
       "      <td>5</td>\n",
       "      <td>8</td>\n",
       "      <td>162</td>\n",
       "      <td>26</td>\n",
       "      <td>203</td>\n",
       "      <td>114</td>\n",
       "      <td>1237161600000000000</td>\n",
       "      <td>0</td>\n",
       "      <td>2</td>\n",
       "      <td>False</td>\n",
       "    </tr>\n",
       "    <tr>\n",
       "      <th>7C2lKvcB-fSkv8AYsuHfgg</th>\n",
       "      <td>Charlotte,NC</td>\n",
       "      <td>2.0</td>\n",
       "      <td>1</td>\n",
       "      <td>1</td>\n",
       "      <td>1</td>\n",
       "      <td>1</td>\n",
       "      <td>casual</td>\n",
       "      <td>0</td>\n",
       "      <td>0</td>\n",
       "      <td>0</td>\n",
       "      <td>...</td>\n",
       "      <td>4</td>\n",
       "      <td>18</td>\n",
       "      <td>152</td>\n",
       "      <td>5</td>\n",
       "      <td>124</td>\n",
       "      <td>21</td>\n",
       "      <td>1293840000000000000</td>\n",
       "      <td>1</td>\n",
       "      <td>2</td>\n",
       "      <td>True</td>\n",
       "    </tr>\n",
       "  </tbody>\n",
       "</table>\n",
       "<p>5 rows × 46 columns</p>\n",
       "</div>"
      ],
      "text/plain": [
       "                                                   location  \\\n",
       "business_id            review_id                              \n",
       "KbLI0QELlAwbfDUVwo43DQ HpqaGoLFaio3PZobs_dhew  Charlotte,NC   \n",
       "                       mzFgl5bYVhytcdOd7J9kLw  Charlotte,NC   \n",
       "                       lSpQGob-ceMRQvKBadkdZQ  Charlotte,NC   \n",
       "                       FOBYZZBsWsTnn4gu1prCcg  Charlotte,NC   \n",
       "                       7C2lKvcB-fSkv8AYsuHfgg  Charlotte,NC   \n",
       "\n",
       "                                              RestaurantsPriceRange2  \\\n",
       "business_id            review_id                                       \n",
       "KbLI0QELlAwbfDUVwo43DQ HpqaGoLFaio3PZobs_dhew                    2.0   \n",
       "                       mzFgl5bYVhytcdOd7J9kLw                    2.0   \n",
       "                       lSpQGob-ceMRQvKBadkdZQ                    2.0   \n",
       "                       FOBYZZBsWsTnn4gu1prCcg                    2.0   \n",
       "                       7C2lKvcB-fSkv8AYsuHfgg                    2.0   \n",
       "\n",
       "                                              RestaurantsTakeOut  \\\n",
       "business_id            review_id                                   \n",
       "KbLI0QELlAwbfDUVwo43DQ HpqaGoLFaio3PZobs_dhew                  1   \n",
       "                       mzFgl5bYVhytcdOd7J9kLw                  1   \n",
       "                       lSpQGob-ceMRQvKBadkdZQ                  1   \n",
       "                       FOBYZZBsWsTnn4gu1prCcg                  1   \n",
       "                       7C2lKvcB-fSkv8AYsuHfgg                  1   \n",
       "\n",
       "                                              RestaurantsGoodForGroups  \\\n",
       "business_id            review_id                                         \n",
       "KbLI0QELlAwbfDUVwo43DQ HpqaGoLFaio3PZobs_dhew                        1   \n",
       "                       mzFgl5bYVhytcdOd7J9kLw                        1   \n",
       "                       lSpQGob-ceMRQvKBadkdZQ                        1   \n",
       "                       FOBYZZBsWsTnn4gu1prCcg                        1   \n",
       "                       7C2lKvcB-fSkv8AYsuHfgg                        1   \n",
       "\n",
       "                                              BusinessAcceptsCreditCards  \\\n",
       "business_id            review_id                                           \n",
       "KbLI0QELlAwbfDUVwo43DQ HpqaGoLFaio3PZobs_dhew                          1   \n",
       "                       mzFgl5bYVhytcdOd7J9kLw                          1   \n",
       "                       lSpQGob-ceMRQvKBadkdZQ                          1   \n",
       "                       FOBYZZBsWsTnn4gu1prCcg                          1   \n",
       "                       7C2lKvcB-fSkv8AYsuHfgg                          1   \n",
       "\n",
       "                                              GoodForKids RestaurantsAttire  \\\n",
       "business_id            review_id                                              \n",
       "KbLI0QELlAwbfDUVwo43DQ HpqaGoLFaio3PZobs_dhew           1            casual   \n",
       "                       mzFgl5bYVhytcdOd7J9kLw           1            casual   \n",
       "                       lSpQGob-ceMRQvKBadkdZQ           1            casual   \n",
       "                       FOBYZZBsWsTnn4gu1prCcg           1            casual   \n",
       "                       7C2lKvcB-fSkv8AYsuHfgg           1            casual   \n",
       "\n",
       "                                              RestaurantsReservations  \\\n",
       "business_id            review_id                                        \n",
       "KbLI0QELlAwbfDUVwo43DQ HpqaGoLFaio3PZobs_dhew                       0   \n",
       "                       mzFgl5bYVhytcdOd7J9kLw                       0   \n",
       "                       lSpQGob-ceMRQvKBadkdZQ                       0   \n",
       "                       FOBYZZBsWsTnn4gu1prCcg                       0   \n",
       "                       7C2lKvcB-fSkv8AYsuHfgg                       0   \n",
       "\n",
       "                                              OutdoorSeating  \\\n",
       "business_id            review_id                               \n",
       "KbLI0QELlAwbfDUVwo43DQ HpqaGoLFaio3PZobs_dhew              0   \n",
       "                       mzFgl5bYVhytcdOd7J9kLw              0   \n",
       "                       lSpQGob-ceMRQvKBadkdZQ              0   \n",
       "                       FOBYZZBsWsTnn4gu1prCcg              0   \n",
       "                       7C2lKvcB-fSkv8AYsuHfgg              0   \n",
       "\n",
       "                                              RestaurantsDelivery  ...    \\\n",
       "business_id            review_id                                   ...     \n",
       "KbLI0QELlAwbfDUVwo43DQ HpqaGoLFaio3PZobs_dhew                   0  ...     \n",
       "                       mzFgl5bYVhytcdOd7J9kLw                   0  ...     \n",
       "                       lSpQGob-ceMRQvKBadkdZQ                   0  ...     \n",
       "                       FOBYZZBsWsTnn4gu1prCcg                   0  ...     \n",
       "                       7C2lKvcB-fSkv8AYsuHfgg                   0  ...     \n",
       "\n",
       "                                              elite fans friends funny  \\\n",
       "business_id            review_id                                         \n",
       "KbLI0QELlAwbfDUVwo43DQ HpqaGoLFaio3PZobs_dhew     0    0      45     2   \n",
       "                       mzFgl5bYVhytcdOd7J9kLw     2   44     188    36   \n",
       "                       lSpQGob-ceMRQvKBadkdZQ     9  127     398   782   \n",
       "                       FOBYZZBsWsTnn4gu1prCcg     5    8     162    26   \n",
       "                       7C2lKvcB-fSkv8AYsuHfgg     4   18     152     5   \n",
       "\n",
       "                                              user_review_count useful  \\\n",
       "business_id            review_id                                         \n",
       "KbLI0QELlAwbfDUVwo43DQ HpqaGoLFaio3PZobs_dhew                16      5   \n",
       "                       mzFgl5bYVhytcdOd7J9kLw               700     43   \n",
       "                       lSpQGob-ceMRQvKBadkdZQ              2140   2349   \n",
       "                       FOBYZZBsWsTnn4gu1prCcg               203    114   \n",
       "                       7C2lKvcB-fSkv8AYsuHfgg               124     21   \n",
       "\n",
       "                                                     yelping_since likes  \\\n",
       "business_id            review_id                                           \n",
       "KbLI0QELlAwbfDUVwo43DQ HpqaGoLFaio3PZobs_dhew  1332892800000000000     0   \n",
       "                       mzFgl5bYVhytcdOd7J9kLw  1441756800000000000     0   \n",
       "                       lSpQGob-ceMRQvKBadkdZQ  1103414400000000000     0   \n",
       "                       FOBYZZBsWsTnn4gu1prCcg  1237161600000000000     0   \n",
       "                       7C2lKvcB-fSkv8AYsuHfgg  1293840000000000000     1   \n",
       "\n",
       "                                              num_photos target  \n",
       "business_id            review_id                                 \n",
       "KbLI0QELlAwbfDUVwo43DQ HpqaGoLFaio3PZobs_dhew          2  False  \n",
       "                       mzFgl5bYVhytcdOd7J9kLw          2  False  \n",
       "                       lSpQGob-ceMRQvKBadkdZQ          2  False  \n",
       "                       FOBYZZBsWsTnn4gu1prCcg          2  False  \n",
       "                       7C2lKvcB-fSkv8AYsuHfgg          2   True  \n",
       "\n",
       "[5 rows x 46 columns]"
      ]
     },
     "execution_count": 10,
     "metadata": {},
     "output_type": "execute_result"
    }
   ],
   "source": [
    "table.head()"
   ]
  },
  {
   "cell_type": "code",
   "execution_count": 11,
   "metadata": {},
   "outputs": [
    {
     "data": {
      "text/plain": [
       "(1016902, 46)"
      ]
     },
     "execution_count": 11,
     "metadata": {},
     "output_type": "execute_result"
    }
   ],
   "source": [
    "table.shape"
   ]
  },
  {
   "cell_type": "code",
   "execution_count": 12,
   "metadata": {
    "scrolled": true
   },
   "outputs": [
    {
     "name": "stderr",
     "output_type": "stream",
     "text": [
      "C:\\Users\\leiwen\\Anaconda3\\lib\\site-packages\\ipykernel_launcher.py:1: DeprecationWarning: \n",
      ".ix is deprecated. Please use\n",
      ".loc for label based indexing or\n",
      ".iloc for positional indexing\n",
      "\n",
      "See the documentation here:\n",
      "http://pandas.pydata.org/pandas-docs/stable/indexing.html#ix-indexer-is-deprecated\n",
      "  \"\"\"Entry point for launching an IPython kernel.\n"
     ]
    },
    {
     "data": {
      "text/html": [
       "<div>\n",
       "<style>\n",
       "    .dataframe thead tr:only-child th {\n",
       "        text-align: right;\n",
       "    }\n",
       "\n",
       "    .dataframe thead th {\n",
       "        text-align: left;\n",
       "    }\n",
       "\n",
       "    .dataframe tbody tr th {\n",
       "        vertical-align: top;\n",
       "    }\n",
       "</style>\n",
       "<table border=\"1\" class=\"dataframe\">\n",
       "  <thead>\n",
       "    <tr style=\"text-align: right;\">\n",
       "      <th></th>\n",
       "      <th></th>\n",
       "      <th>location</th>\n",
       "      <th>RestaurantsPriceRange2</th>\n",
       "      <th>RestaurantsTakeOut</th>\n",
       "      <th>RestaurantsGoodForGroups</th>\n",
       "      <th>BusinessAcceptsCreditCards</th>\n",
       "      <th>GoodForKids</th>\n",
       "      <th>RestaurantsAttire</th>\n",
       "      <th>RestaurantsReservations</th>\n",
       "      <th>OutdoorSeating</th>\n",
       "      <th>RestaurantsDelivery</th>\n",
       "      <th>...</th>\n",
       "      <th>GoodForMeal.latenight</th>\n",
       "      <th>GoodForMeal.breakfast</th>\n",
       "      <th>GoodForMeal.dessert</th>\n",
       "      <th>GoodForMeal.brunch</th>\n",
       "      <th>GoodForMeal.lunch</th>\n",
       "      <th>BusinessParking.valet</th>\n",
       "      <th>BusinessParking.street</th>\n",
       "      <th>BusinessParking.lot</th>\n",
       "      <th>BusinessParking.garage</th>\n",
       "      <th>Alcohol</th>\n",
       "    </tr>\n",
       "    <tr>\n",
       "      <th>business_id</th>\n",
       "      <th>review_id</th>\n",
       "      <th></th>\n",
       "      <th></th>\n",
       "      <th></th>\n",
       "      <th></th>\n",
       "      <th></th>\n",
       "      <th></th>\n",
       "      <th></th>\n",
       "      <th></th>\n",
       "      <th></th>\n",
       "      <th></th>\n",
       "      <th></th>\n",
       "      <th></th>\n",
       "      <th></th>\n",
       "      <th></th>\n",
       "      <th></th>\n",
       "      <th></th>\n",
       "      <th></th>\n",
       "      <th></th>\n",
       "      <th></th>\n",
       "      <th></th>\n",
       "      <th></th>\n",
       "    </tr>\n",
       "  </thead>\n",
       "  <tbody>\n",
       "    <tr>\n",
       "      <th rowspan=\"3\" valign=\"top\">KbLI0QELlAwbfDUVwo43DQ</th>\n",
       "      <th>HpqaGoLFaio3PZobs_dhew</th>\n",
       "      <td>Charlotte,NC</td>\n",
       "      <td>2.0</td>\n",
       "      <td>1</td>\n",
       "      <td>1</td>\n",
       "      <td>1</td>\n",
       "      <td>1</td>\n",
       "      <td>casual</td>\n",
       "      <td>0</td>\n",
       "      <td>0</td>\n",
       "      <td>0</td>\n",
       "      <td>...</td>\n",
       "      <td>0</td>\n",
       "      <td>0</td>\n",
       "      <td>0</td>\n",
       "      <td>0</td>\n",
       "      <td>1</td>\n",
       "      <td>0</td>\n",
       "      <td>0</td>\n",
       "      <td>1</td>\n",
       "      <td>0</td>\n",
       "      <td>beer_and_wine</td>\n",
       "    </tr>\n",
       "    <tr>\n",
       "      <th>mzFgl5bYVhytcdOd7J9kLw</th>\n",
       "      <td>Charlotte,NC</td>\n",
       "      <td>2.0</td>\n",
       "      <td>1</td>\n",
       "      <td>1</td>\n",
       "      <td>1</td>\n",
       "      <td>1</td>\n",
       "      <td>casual</td>\n",
       "      <td>0</td>\n",
       "      <td>0</td>\n",
       "      <td>0</td>\n",
       "      <td>...</td>\n",
       "      <td>0</td>\n",
       "      <td>0</td>\n",
       "      <td>0</td>\n",
       "      <td>0</td>\n",
       "      <td>1</td>\n",
       "      <td>0</td>\n",
       "      <td>0</td>\n",
       "      <td>1</td>\n",
       "      <td>0</td>\n",
       "      <td>beer_and_wine</td>\n",
       "    </tr>\n",
       "    <tr>\n",
       "      <th>lSpQGob-ceMRQvKBadkdZQ</th>\n",
       "      <td>Charlotte,NC</td>\n",
       "      <td>2.0</td>\n",
       "      <td>1</td>\n",
       "      <td>1</td>\n",
       "      <td>1</td>\n",
       "      <td>1</td>\n",
       "      <td>casual</td>\n",
       "      <td>0</td>\n",
       "      <td>0</td>\n",
       "      <td>0</td>\n",
       "      <td>...</td>\n",
       "      <td>0</td>\n",
       "      <td>0</td>\n",
       "      <td>0</td>\n",
       "      <td>0</td>\n",
       "      <td>1</td>\n",
       "      <td>0</td>\n",
       "      <td>0</td>\n",
       "      <td>1</td>\n",
       "      <td>0</td>\n",
       "      <td>beer_and_wine</td>\n",
       "    </tr>\n",
       "  </tbody>\n",
       "</table>\n",
       "<p>3 rows × 21 columns</p>\n",
       "</div>"
      ],
      "text/plain": [
       "                                                   location  \\\n",
       "business_id            review_id                              \n",
       "KbLI0QELlAwbfDUVwo43DQ HpqaGoLFaio3PZobs_dhew  Charlotte,NC   \n",
       "                       mzFgl5bYVhytcdOd7J9kLw  Charlotte,NC   \n",
       "                       lSpQGob-ceMRQvKBadkdZQ  Charlotte,NC   \n",
       "\n",
       "                                              RestaurantsPriceRange2  \\\n",
       "business_id            review_id                                       \n",
       "KbLI0QELlAwbfDUVwo43DQ HpqaGoLFaio3PZobs_dhew                    2.0   \n",
       "                       mzFgl5bYVhytcdOd7J9kLw                    2.0   \n",
       "                       lSpQGob-ceMRQvKBadkdZQ                    2.0   \n",
       "\n",
       "                                              RestaurantsTakeOut  \\\n",
       "business_id            review_id                                   \n",
       "KbLI0QELlAwbfDUVwo43DQ HpqaGoLFaio3PZobs_dhew                  1   \n",
       "                       mzFgl5bYVhytcdOd7J9kLw                  1   \n",
       "                       lSpQGob-ceMRQvKBadkdZQ                  1   \n",
       "\n",
       "                                              RestaurantsGoodForGroups  \\\n",
       "business_id            review_id                                         \n",
       "KbLI0QELlAwbfDUVwo43DQ HpqaGoLFaio3PZobs_dhew                        1   \n",
       "                       mzFgl5bYVhytcdOd7J9kLw                        1   \n",
       "                       lSpQGob-ceMRQvKBadkdZQ                        1   \n",
       "\n",
       "                                              BusinessAcceptsCreditCards  \\\n",
       "business_id            review_id                                           \n",
       "KbLI0QELlAwbfDUVwo43DQ HpqaGoLFaio3PZobs_dhew                          1   \n",
       "                       mzFgl5bYVhytcdOd7J9kLw                          1   \n",
       "                       lSpQGob-ceMRQvKBadkdZQ                          1   \n",
       "\n",
       "                                              GoodForKids RestaurantsAttire  \\\n",
       "business_id            review_id                                              \n",
       "KbLI0QELlAwbfDUVwo43DQ HpqaGoLFaio3PZobs_dhew           1            casual   \n",
       "                       mzFgl5bYVhytcdOd7J9kLw           1            casual   \n",
       "                       lSpQGob-ceMRQvKBadkdZQ           1            casual   \n",
       "\n",
       "                                              RestaurantsReservations  \\\n",
       "business_id            review_id                                        \n",
       "KbLI0QELlAwbfDUVwo43DQ HpqaGoLFaio3PZobs_dhew                       0   \n",
       "                       mzFgl5bYVhytcdOd7J9kLw                       0   \n",
       "                       lSpQGob-ceMRQvKBadkdZQ                       0   \n",
       "\n",
       "                                              OutdoorSeating  \\\n",
       "business_id            review_id                               \n",
       "KbLI0QELlAwbfDUVwo43DQ HpqaGoLFaio3PZobs_dhew              0   \n",
       "                       mzFgl5bYVhytcdOd7J9kLw              0   \n",
       "                       lSpQGob-ceMRQvKBadkdZQ              0   \n",
       "\n",
       "                                              RestaurantsDelivery  \\\n",
       "business_id            review_id                                    \n",
       "KbLI0QELlAwbfDUVwo43DQ HpqaGoLFaio3PZobs_dhew                   0   \n",
       "                       mzFgl5bYVhytcdOd7J9kLw                   0   \n",
       "                       lSpQGob-ceMRQvKBadkdZQ                   0   \n",
       "\n",
       "                                                   ...        \\\n",
       "business_id            review_id                   ...         \n",
       "KbLI0QELlAwbfDUVwo43DQ HpqaGoLFaio3PZobs_dhew      ...         \n",
       "                       mzFgl5bYVhytcdOd7J9kLw      ...         \n",
       "                       lSpQGob-ceMRQvKBadkdZQ      ...         \n",
       "\n",
       "                                              GoodForMeal.latenight  \\\n",
       "business_id            review_id                                      \n",
       "KbLI0QELlAwbfDUVwo43DQ HpqaGoLFaio3PZobs_dhew                     0   \n",
       "                       mzFgl5bYVhytcdOd7J9kLw                     0   \n",
       "                       lSpQGob-ceMRQvKBadkdZQ                     0   \n",
       "\n",
       "                                              GoodForMeal.breakfast  \\\n",
       "business_id            review_id                                      \n",
       "KbLI0QELlAwbfDUVwo43DQ HpqaGoLFaio3PZobs_dhew                     0   \n",
       "                       mzFgl5bYVhytcdOd7J9kLw                     0   \n",
       "                       lSpQGob-ceMRQvKBadkdZQ                     0   \n",
       "\n",
       "                                              GoodForMeal.dessert  \\\n",
       "business_id            review_id                                    \n",
       "KbLI0QELlAwbfDUVwo43DQ HpqaGoLFaio3PZobs_dhew                   0   \n",
       "                       mzFgl5bYVhytcdOd7J9kLw                   0   \n",
       "                       lSpQGob-ceMRQvKBadkdZQ                   0   \n",
       "\n",
       "                                              GoodForMeal.brunch  \\\n",
       "business_id            review_id                                   \n",
       "KbLI0QELlAwbfDUVwo43DQ HpqaGoLFaio3PZobs_dhew                  0   \n",
       "                       mzFgl5bYVhytcdOd7J9kLw                  0   \n",
       "                       lSpQGob-ceMRQvKBadkdZQ                  0   \n",
       "\n",
       "                                              GoodForMeal.lunch  \\\n",
       "business_id            review_id                                  \n",
       "KbLI0QELlAwbfDUVwo43DQ HpqaGoLFaio3PZobs_dhew                 1   \n",
       "                       mzFgl5bYVhytcdOd7J9kLw                 1   \n",
       "                       lSpQGob-ceMRQvKBadkdZQ                 1   \n",
       "\n",
       "                                              BusinessParking.valet  \\\n",
       "business_id            review_id                                      \n",
       "KbLI0QELlAwbfDUVwo43DQ HpqaGoLFaio3PZobs_dhew                     0   \n",
       "                       mzFgl5bYVhytcdOd7J9kLw                     0   \n",
       "                       lSpQGob-ceMRQvKBadkdZQ                     0   \n",
       "\n",
       "                                              BusinessParking.street  \\\n",
       "business_id            review_id                                       \n",
       "KbLI0QELlAwbfDUVwo43DQ HpqaGoLFaio3PZobs_dhew                      0   \n",
       "                       mzFgl5bYVhytcdOd7J9kLw                      0   \n",
       "                       lSpQGob-ceMRQvKBadkdZQ                      0   \n",
       "\n",
       "                                              BusinessParking.lot  \\\n",
       "business_id            review_id                                    \n",
       "KbLI0QELlAwbfDUVwo43DQ HpqaGoLFaio3PZobs_dhew                   1   \n",
       "                       mzFgl5bYVhytcdOd7J9kLw                   1   \n",
       "                       lSpQGob-ceMRQvKBadkdZQ                   1   \n",
       "\n",
       "                                              BusinessParking.garage  \\\n",
       "business_id            review_id                                       \n",
       "KbLI0QELlAwbfDUVwo43DQ HpqaGoLFaio3PZobs_dhew                      0   \n",
       "                       mzFgl5bYVhytcdOd7J9kLw                      0   \n",
       "                       lSpQGob-ceMRQvKBadkdZQ                      0   \n",
       "\n",
       "                                                     Alcohol  \n",
       "business_id            review_id                              \n",
       "KbLI0QELlAwbfDUVwo43DQ HpqaGoLFaio3PZobs_dhew  beer_and_wine  \n",
       "                       mzFgl5bYVhytcdOd7J9kLw  beer_and_wine  \n",
       "                       lSpQGob-ceMRQvKBadkdZQ  beer_and_wine  \n",
       "\n",
       "[3 rows x 21 columns]"
      ]
     },
     "execution_count": 12,
     "metadata": {},
     "output_type": "execute_result"
    }
   ],
   "source": [
    "table.ix[:,\"location\":\"Alcohol\"].head(3)"
   ]
  },
  {
   "cell_type": "code",
   "execution_count": 13,
   "metadata": {},
   "outputs": [
    {
     "data": {
      "text/plain": [
       "location                       object\n",
       "RestaurantsPriceRange2         object\n",
       "RestaurantsTakeOut             object\n",
       "RestaurantsGoodForGroups       object\n",
       "BusinessAcceptsCreditCards     object\n",
       "GoodForKids                    object\n",
       "RestaurantsAttire              object\n",
       "RestaurantsReservations        object\n",
       "OutdoorSeating                 object\n",
       "RestaurantsDelivery            object\n",
       "GoodForMeal.dinner             object\n",
       "GoodForMeal.latenight          object\n",
       "GoodForMeal.breakfast          object\n",
       "GoodForMeal.dessert            object\n",
       "GoodForMeal.brunch             object\n",
       "GoodForMeal.lunch              object\n",
       "BusinessParking.valet          object\n",
       "BusinessParking.street         object\n",
       "BusinessParking.lot            object\n",
       "BusinessParking.garage         object\n",
       "Alcohol                        object\n",
       "business_review_count           int64\n",
       "avg_business_stars            float64\n",
       "average_stars                 float64\n",
       "compliment_cool                 int64\n",
       "compliment_cute                 int64\n",
       "compliment_funny                int64\n",
       "compliment_hot                  int64\n",
       "compliment_list                 int64\n",
       "compliment_more                 int64\n",
       "compliment_note                 int64\n",
       "compliment_photos               int64\n",
       "compliment_plain                int64\n",
       "compliment_profile              int64\n",
       "compliment_writer               int64\n",
       "cool                            int64\n",
       "elite                           int64\n",
       "fans                            int64\n",
       "friends                         int64\n",
       "funny                           int64\n",
       "user_review_count               int64\n",
       "useful                          int64\n",
       "yelping_since                   int64\n",
       "likes                           int64\n",
       "num_photos                      int64\n",
       "target                           bool\n",
       "dtype: object"
      ]
     },
     "execution_count": 13,
     "metadata": {},
     "output_type": "execute_result"
    }
   ],
   "source": [
    "table.dtypes"
   ]
  },
  {
   "cell_type": "code",
   "execution_count": 14,
   "metadata": {
    "collapsed": true
   },
   "outputs": [],
   "source": [
    "from sklearn.preprocessing import LabelEncoder, OneHotEncoder"
   ]
  },
  {
   "cell_type": "code",
   "execution_count": 15,
   "metadata": {
    "collapsed": true
   },
   "outputs": [],
   "source": [
    "labelencoder = LabelEncoder()"
   ]
  },
  {
   "cell_type": "code",
   "execution_count": 16,
   "metadata": {
    "collapsed": true
   },
   "outputs": [],
   "source": [
    "table.ix[:,\"location\":\"Alcohol\"] = table.ix[:,\"location\":\"Alcohol\"].apply(lambda x: labelencoder.fit_transform(x),axis=0 ) "
   ]
  },
  {
   "cell_type": "code",
   "execution_count": 17,
   "metadata": {
    "collapsed": true
   },
   "outputs": [],
   "source": [
    "onehotencoder = OneHotEncoder(categorical_features = list(range(21)))"
   ]
  },
  {
   "cell_type": "code",
   "execution_count": 18,
   "metadata": {
    "collapsed": true
   },
   "outputs": [],
   "source": [
    "table = onehotencoder.fit_transform(table.ix[:,:]).toarray()"
   ]
  },
  {
   "cell_type": "code",
   "execution_count": 19,
   "metadata": {},
   "outputs": [
    {
     "data": {
      "text/plain": [
       "(1016902, 109)"
      ]
     },
     "execution_count": 19,
     "metadata": {},
     "output_type": "execute_result"
    }
   ],
   "source": [
    "table.shape"
   ]
  },
  {
   "cell_type": "markdown",
   "metadata": {},
   "source": [
    "spilt train set and test set."
   ]
  },
  {
   "cell_type": "code",
   "execution_count": 20,
   "metadata": {},
   "outputs": [
    {
     "name": "stderr",
     "output_type": "stream",
     "text": [
      "C:\\Users\\leiwen\\Anaconda3\\lib\\site-packages\\sklearn\\cross_validation.py:41: DeprecationWarning: This module was deprecated in version 0.18 in favor of the model_selection module into which all the refactored classes and functions are moved. Also note that the interface of the new CV iterators are different from that of this module. This module will be removed in 0.20.\n",
      "  \"This module will be removed in 0.20.\", DeprecationWarning)\n"
     ]
    }
   ],
   "source": [
    "from sklearn.cross_validation import train_test_split"
   ]
  },
  {
   "cell_type": "code",
   "execution_count": 21,
   "metadata": {
    "collapsed": true
   },
   "outputs": [],
   "source": [
    "train, test = train_test_split(table, test_size = 0.3, random_state = 0)"
   ]
  },
  {
   "cell_type": "code",
   "execution_count": 22,
   "metadata": {},
   "outputs": [
    {
     "data": {
      "text/plain": [
       "(711831, 109)"
      ]
     },
     "execution_count": 22,
     "metadata": {},
     "output_type": "execute_result"
    }
   ],
   "source": [
    "train.shape"
   ]
  },
  {
   "cell_type": "code",
   "execution_count": 23,
   "metadata": {},
   "outputs": [
    {
     "data": {
      "text/plain": [
       "(305071, 109)"
      ]
     },
     "execution_count": 23,
     "metadata": {},
     "output_type": "execute_result"
    }
   ],
   "source": [
    "test.shape"
   ]
  },
  {
   "cell_type": "code",
   "execution_count": 24,
   "metadata": {},
   "outputs": [
    {
     "data": {
      "text/plain": [
       "array([ 1.,  1.,  0., ...,  0.,  0.,  1.])"
      ]
     },
     "execution_count": 24,
     "metadata": {},
     "output_type": "execute_result"
    }
   ],
   "source": [
    "train[:,-1]"
   ]
  },
  {
   "cell_type": "code",
   "execution_count": 25,
   "metadata": {
    "collapsed": true
   },
   "outputs": [],
   "source": [
    "X_train = train[:,:-1]"
   ]
  },
  {
   "cell_type": "code",
   "execution_count": 26,
   "metadata": {
    "collapsed": true
   },
   "outputs": [],
   "source": [
    "Y_train =train[:,-1].astype(\"int\")"
   ]
  },
  {
   "cell_type": "code",
   "execution_count": 27,
   "metadata": {
    "collapsed": true
   },
   "outputs": [],
   "source": [
    "X_test = test[:,:-1]"
   ]
  },
  {
   "cell_type": "code",
   "execution_count": 28,
   "metadata": {
    "collapsed": true
   },
   "outputs": [],
   "source": [
    "Y_test =test[:,-1].astype(\"int\")"
   ]
  },
  {
   "cell_type": "code",
   "execution_count": 29,
   "metadata": {},
   "outputs": [
    {
     "data": {
      "text/plain": [
       "array([0, 0, 1, ..., 0, 1, 1])"
      ]
     },
     "execution_count": 29,
     "metadata": {},
     "output_type": "execute_result"
    }
   ],
   "source": [
    "Y_test"
   ]
  },
  {
   "cell_type": "code",
   "execution_count": 30,
   "metadata": {
    "collapsed": true
   },
   "outputs": [],
   "source": [
    "from sklearn.preprocessing import StandardScaler\n",
    "sc = StandardScaler()\n",
    "X_train = sc.fit_transform(X_train)\n",
    "X_test = sc.transform(X_test)"
   ]
  },
  {
   "cell_type": "code",
   "execution_count": 31,
   "metadata": {},
   "outputs": [
    {
     "name": "stderr",
     "output_type": "stream",
     "text": [
      "Using TensorFlow backend.\n"
     ]
    }
   ],
   "source": [
    "import keras\n",
    "from keras.models import Sequential\n",
    "from keras.layers import Dense"
   ]
  },
  {
   "cell_type": "code",
   "execution_count": 32,
   "metadata": {
    "collapsed": true
   },
   "outputs": [],
   "source": [
    "classifier = Sequential()"
   ]
  },
  {
   "cell_type": "code",
   "execution_count": 33,
   "metadata": {},
   "outputs": [
    {
     "name": "stderr",
     "output_type": "stream",
     "text": [
      "C:\\Users\\leiwen\\Anaconda3\\lib\\site-packages\\ipykernel_launcher.py:1: UserWarning: Update your `Dense` call to the Keras 2 API: `Dense(activation=\"relu\", input_dim=108, units=60, kernel_initializer=\"uniform\")`\n",
      "  \"\"\"Entry point for launching an IPython kernel.\n"
     ]
    }
   ],
   "source": [
    "classifier.add(Dense(output_dim = 60, init = 'uniform', activation = 'relu', input_dim = 108))"
   ]
  },
  {
   "cell_type": "code",
   "execution_count": 34,
   "metadata": {},
   "outputs": [
    {
     "name": "stderr",
     "output_type": "stream",
     "text": [
      "C:\\Users\\leiwen\\Anaconda3\\lib\\site-packages\\ipykernel_launcher.py:1: UserWarning: Update your `Dense` call to the Keras 2 API: `Dense(activation=\"relu\", units=60, kernel_initializer=\"uniform\")`\n",
      "  \"\"\"Entry point for launching an IPython kernel.\n"
     ]
    }
   ],
   "source": [
    "classifier.add(Dense(output_dim = 60, init = 'uniform', activation = 'relu'))"
   ]
  },
  {
   "cell_type": "code",
   "execution_count": 35,
   "metadata": {},
   "outputs": [
    {
     "name": "stderr",
     "output_type": "stream",
     "text": [
      "C:\\Users\\leiwen\\Anaconda3\\lib\\site-packages\\ipykernel_launcher.py:1: UserWarning: Update your `Dense` call to the Keras 2 API: `Dense(activation=\"sigmoid\", units=1, kernel_initializer=\"uniform\")`\n",
      "  \"\"\"Entry point for launching an IPython kernel.\n"
     ]
    }
   ],
   "source": [
    "classifier.add(Dense(output_dim = 1, init = 'uniform', activation = 'sigmoid'))"
   ]
  },
  {
   "cell_type": "code",
   "execution_count": 36,
   "metadata": {
    "collapsed": true
   },
   "outputs": [],
   "source": [
    "classifier.compile(optimizer = 'adam', loss = 'binary_crossentropy', metrics = ['accuracy'])"
   ]
  },
  {
   "cell_type": "code",
   "execution_count": 37,
   "metadata": {},
   "outputs": [
    {
     "name": "stdout",
     "output_type": "stream",
     "text": [
      "Epoch 1/300\n",
      "711831/711831 [==============================] - 2s - loss: 0.6442 - acc: 0.6382     \n",
      "Epoch 2/300\n",
      "711831/711831 [==============================] - 1s - loss: 0.5803 - acc: 0.6848     \n",
      "Epoch 3/300\n",
      "711831/711831 [==============================] - 1s - loss: 0.5557 - acc: 0.7172     \n",
      "Epoch 4/300\n",
      "711831/711831 [==============================] - 1s - loss: 0.5491 - acc: 0.7196     \n",
      "Epoch 5/300\n",
      "711831/711831 [==============================] - 1s - loss: 0.5466 - acc: 0.7209     \n",
      "Epoch 6/300\n",
      "711831/711831 [==============================] - 1s - loss: 0.5446 - acc: 0.7218     \n",
      "Epoch 7/300\n",
      "711831/711831 [==============================] - 1s - loss: 0.5431 - acc: 0.7221     \n",
      "Epoch 8/300\n",
      "711831/711831 [==============================] - 1s - loss: 0.5420 - acc: 0.7231     \n",
      "Epoch 9/300\n",
      "711831/711831 [==============================] - 1s - loss: 0.5413 - acc: 0.7233     \n",
      "Epoch 10/300\n",
      "711831/711831 [==============================] - 1s - loss: 0.5410 - acc: 0.7234     \n",
      "Epoch 11/300\n",
      "711831/711831 [==============================] - 1s - loss: 0.5405 - acc: 0.7237     \n",
      "Epoch 12/300\n",
      "711831/711831 [==============================] - 1s - loss: 0.5400 - acc: 0.7244     \n",
      "Epoch 13/300\n",
      "711831/711831 [==============================] - 1s - loss: 0.5397 - acc: 0.7245     \n",
      "Epoch 14/300\n",
      "711831/711831 [==============================] - 1s - loss: 0.5394 - acc: 0.7247     \n",
      "Epoch 15/300\n",
      "711831/711831 [==============================] - 1s - loss: 0.5391 - acc: 0.7247     \n",
      "Epoch 16/300\n",
      "711831/711831 [==============================] - 1s - loss: 0.5389 - acc: 0.7248     \n",
      "Epoch 17/300\n",
      "711831/711831 [==============================] - 1s - loss: 0.5385 - acc: 0.7252     - ETA: 0s - loss: 0.5391\n",
      "Epoch 18/300\n",
      "711831/711831 [==============================] - 1s - loss: 0.5383 - acc: 0.7254     \n",
      "Epoch 19/300\n",
      "711831/711831 [==============================] - 1s - loss: 0.5381 - acc: 0.7255     \n",
      "Epoch 20/300\n",
      "711831/711831 [==============================] - 1s - loss: 0.5380 - acc: 0.7252     \n",
      "Epoch 21/300\n",
      "711831/711831 [==============================] - 1s - loss: 0.5377 - acc: 0.7255     \n",
      "Epoch 22/300\n",
      "711831/711831 [==============================] - 1s - loss: 0.5375 - acc: 0.7258     \n",
      "Epoch 23/300\n",
      "711831/711831 [==============================] - 1s - loss: 0.5375 - acc: 0.7256     \n",
      "Epoch 24/300\n",
      "711831/711831 [==============================] - 1s - loss: 0.5373 - acc: 0.7259     \n",
      "Epoch 25/300\n",
      "711831/711831 [==============================] - 1s - loss: 0.5370 - acc: 0.7260     \n",
      "Epoch 26/300\n",
      "711831/711831 [==============================] - 1s - loss: 0.5369 - acc: 0.7259     \n",
      "Epoch 27/300\n",
      "711831/711831 [==============================] - 1s - loss: 0.5367 - acc: 0.7262     \n",
      "Epoch 28/300\n",
      "711831/711831 [==============================] - 1s - loss: 0.5365 - acc: 0.7264     \n",
      "Epoch 29/300\n",
      "711831/711831 [==============================] - 1s - loss: 0.5365 - acc: 0.7265     \n",
      "Epoch 30/300\n",
      "711831/711831 [==============================] - 1s - loss: 0.5364 - acc: 0.7264     \n",
      "Epoch 31/300\n",
      "711831/711831 [==============================] - 1s - loss: 0.5362 - acc: 0.7264     \n",
      "Epoch 32/300\n",
      "711831/711831 [==============================] - 1s - loss: 0.5361 - acc: 0.7268     \n",
      "Epoch 33/300\n",
      "711831/711831 [==============================] - 1s - loss: 0.5361 - acc: 0.7265     \n",
      "Epoch 34/300\n",
      "711831/711831 [==============================] - 1s - loss: 0.5358 - acc: 0.7269     \n",
      "Epoch 35/300\n",
      "711831/711831 [==============================] - 1s - loss: 0.5357 - acc: 0.7268     \n",
      "Epoch 36/300\n",
      "711831/711831 [==============================] - 1s - loss: 0.5356 - acc: 0.7267     \n",
      "Epoch 37/300\n",
      "711831/711831 [==============================] - 1s - loss: 0.5355 - acc: 0.7268     \n",
      "Epoch 38/300\n",
      "711831/711831 [==============================] - 1s - loss: 0.5355 - acc: 0.7269     \n",
      "Epoch 39/300\n",
      "711831/711831 [==============================] - 1s - loss: 0.5354 - acc: 0.7270     \n",
      "Epoch 40/300\n",
      "711831/711831 [==============================] - 1s - loss: 0.5353 - acc: 0.7271     \n",
      "Epoch 41/300\n",
      "711831/711831 [==============================] - 1s - loss: 0.5351 - acc: 0.7271     \n",
      "Epoch 42/300\n",
      "711831/711831 [==============================] - 1s - loss: 0.5350 - acc: 0.7273     \n",
      "Epoch 43/300\n",
      "711831/711831 [==============================] - 1s - loss: 0.5350 - acc: 0.7270     \n",
      "Epoch 44/300\n",
      "711831/711831 [==============================] - 1s - loss: 0.5349 - acc: 0.7274     \n",
      "Epoch 45/300\n",
      "711831/711831 [==============================] - 1s - loss: 0.5347 - acc: 0.7274     \n",
      "Epoch 46/300\n",
      "711831/711831 [==============================] - 1s - loss: 0.5349 - acc: 0.7273     \n",
      "Epoch 47/300\n",
      "711831/711831 [==============================] - 1s - loss: 0.5346 - acc: 0.7274     \n",
      "Epoch 48/300\n",
      "711831/711831 [==============================] - 1s - loss: 0.5345 - acc: 0.7274     \n",
      "Epoch 49/300\n",
      "711831/711831 [==============================] - 1s - loss: 0.5345 - acc: 0.7275     \n",
      "Epoch 50/300\n",
      "711831/711831 [==============================] - 1s - loss: 0.5345 - acc: 0.7275     \n",
      "Epoch 51/300\n",
      "711831/711831 [==============================] - 1s - loss: 0.5344 - acc: 0.7276     \n",
      "Epoch 52/300\n",
      "711831/711831 [==============================] - 1s - loss: 0.5343 - acc: 0.7275     \n",
      "Epoch 53/300\n",
      "711831/711831 [==============================] - 1s - loss: 0.5341 - acc: 0.7276     \n",
      "Epoch 54/300\n",
      "711831/711831 [==============================] - 1s - loss: 0.5342 - acc: 0.7275     \n",
      "Epoch 55/300\n",
      "711831/711831 [==============================] - 1s - loss: 0.5341 - acc: 0.7279     \n",
      "Epoch 56/300\n",
      "711831/711831 [==============================] - 1s - loss: 0.5339 - acc: 0.7279     \n",
      "Epoch 57/300\n",
      "711831/711831 [==============================] - 1s - loss: 0.5339 - acc: 0.7277     \n",
      "Epoch 58/300\n",
      "711831/711831 [==============================] - 1s - loss: 0.5339 - acc: 0.7278     - ETA: 1s - loss: 0.533\n",
      "Epoch 59/300\n",
      "711831/711831 [==============================] - 1s - loss: 0.5338 - acc: 0.7279     \n",
      "Epoch 60/300\n",
      "711831/711831 [==============================] - 1s - loss: 0.5340 - acc: 0.7277     \n",
      "Epoch 61/300\n",
      "711831/711831 [==============================] - 1s - loss: 0.5337 - acc: 0.7280     \n",
      "Epoch 62/300\n",
      "711831/711831 [==============================] - 1s - loss: 0.5336 - acc: 0.7278     \n",
      "Epoch 63/300\n",
      "711831/711831 [==============================] - 1s - loss: 0.5335 - acc: 0.7280     \n",
      "Epoch 64/300\n",
      "711831/711831 [==============================] - 1s - loss: 0.5337 - acc: 0.7281     \n",
      "Epoch 65/300\n",
      "711831/711831 [==============================] - 1s - loss: 0.5334 - acc: 0.7282     \n",
      "Epoch 66/300\n",
      "711831/711831 [==============================] - 1s - loss: 0.5335 - acc: 0.7281     \n",
      "Epoch 67/300\n",
      "711831/711831 [==============================] - 1s - loss: 0.5336 - acc: 0.7284     \n",
      "Epoch 68/300\n",
      "711831/711831 [==============================] - 1s - loss: 0.5333 - acc: 0.7281     \n",
      "Epoch 69/300\n",
      "711831/711831 [==============================] - 1s - loss: 0.5331 - acc: 0.7282     \n",
      "Epoch 70/300\n",
      "711831/711831 [==============================] - 1s - loss: 0.5330 - acc: 0.7284     \n",
      "Epoch 71/300\n",
      "711831/711831 [==============================] - 1s - loss: 0.5333 - acc: 0.7280     \n",
      "Epoch 72/300\n",
      "711831/711831 [==============================] - 1s - loss: 0.5331 - acc: 0.7283     \n",
      "Epoch 73/300\n",
      "711831/711831 [==============================] - 1s - loss: 0.5331 - acc: 0.7284     \n",
      "Epoch 74/300\n",
      "711831/711831 [==============================] - 1s - loss: 0.5330 - acc: 0.7283     \n",
      "Epoch 75/300\n",
      "711831/711831 [==============================] - 1s - loss: 0.5330 - acc: 0.7284     \n",
      "Epoch 76/300\n",
      "711831/711831 [==============================] - 1s - loss: 0.5329 - acc: 0.7284     \n",
      "Epoch 77/300\n",
      "711831/711831 [==============================] - 1s - loss: 0.5330 - acc: 0.7283     \n",
      "Epoch 78/300\n",
      "711831/711831 [==============================] - 1s - loss: 0.5328 - acc: 0.7287     \n",
      "Epoch 79/300\n",
      "711831/711831 [==============================] - 1s - loss: 0.5329 - acc: 0.7285     \n",
      "Epoch 80/300\n",
      "711831/711831 [==============================] - 1s - loss: 0.5327 - acc: 0.7286     \n",
      "Epoch 81/300\n",
      "711831/711831 [==============================] - 1s - loss: 0.5327 - acc: 0.7285     \n",
      "Epoch 82/300\n",
      "711831/711831 [==============================] - 1s - loss: 0.5327 - acc: 0.7285     \n",
      "Epoch 83/300\n",
      "711831/711831 [==============================] - 1s - loss: 0.5327 - acc: 0.7287     \n",
      "Epoch 84/300\n",
      "711831/711831 [==============================] - 1s - loss: 0.5327 - acc: 0.7284     \n",
      "Epoch 85/300\n",
      "711831/711831 [==============================] - 1s - loss: 0.5327 - acc: 0.7285     \n",
      "Epoch 86/300\n",
      "711831/711831 [==============================] - 1s - loss: 0.5325 - acc: 0.7285     \n",
      "Epoch 87/300\n",
      "711831/711831 [==============================] - 1s - loss: 0.5325 - acc: 0.7288     \n",
      "Epoch 88/300\n",
      "711831/711831 [==============================] - 1s - loss: 0.5327 - acc: 0.7285     \n",
      "Epoch 89/300\n",
      "711831/711831 [==============================] - 1s - loss: 0.5325 - acc: 0.7287     \n",
      "Epoch 90/300\n",
      "711831/711831 [==============================] - 1s - loss: 0.5325 - acc: 0.7287     \n",
      "Epoch 91/300\n",
      "711831/711831 [==============================] - 1s - loss: 0.5325 - acc: 0.7287     \n",
      "Epoch 92/300\n",
      "711831/711831 [==============================] - 1s - loss: 0.5325 - acc: 0.7288     \n",
      "Epoch 93/300\n",
      "711831/711831 [==============================] - 1s - loss: 0.5324 - acc: 0.7286     \n",
      "Epoch 94/300\n",
      "711831/711831 [==============================] - 1s - loss: 0.5325 - acc: 0.7287     \n",
      "Epoch 95/300\n",
      "711831/711831 [==============================] - 1s - loss: 0.5323 - acc: 0.7287     \n",
      "Epoch 96/300\n",
      "711831/711831 [==============================] - 1s - loss: 0.5322 - acc: 0.7290     \n",
      "Epoch 97/300\n",
      "711831/711831 [==============================] - 1s - loss: 0.5323 - acc: 0.7287     \n",
      "Epoch 98/300\n",
      "711831/711831 [==============================] - 1s - loss: 0.5323 - acc: 0.7287     \n",
      "Epoch 99/300\n",
      "711831/711831 [==============================] - 1s - loss: 0.5322 - acc: 0.7287     \n",
      "Epoch 100/300\n",
      "711831/711831 [==============================] - 1s - loss: 0.5322 - acc: 0.7287     \n",
      "Epoch 101/300\n",
      "711831/711831 [==============================] - 1s - loss: 0.5322 - acc: 0.7285     \n",
      "Epoch 102/300\n",
      "711831/711831 [==============================] - 1s - loss: 0.5322 - acc: 0.7288     \n",
      "Epoch 103/300\n",
      "711831/711831 [==============================] - 1s - loss: 0.5321 - acc: 0.7288     \n",
      "Epoch 104/300\n",
      "711831/711831 [==============================] - 1s - loss: 0.5320 - acc: 0.7289     \n",
      "Epoch 105/300\n",
      "711831/711831 [==============================] - 1s - loss: 0.5320 - acc: 0.7287     \n",
      "Epoch 106/300\n",
      "711831/711831 [==============================] - 1s - loss: 0.5322 - acc: 0.7288     \n",
      "Epoch 107/300\n",
      "711831/711831 [==============================] - 1s - loss: 0.5320 - acc: 0.7287     \n",
      "Epoch 108/300\n",
      "711831/711831 [==============================] - 1s - loss: 0.5320 - acc: 0.7289     \n",
      "Epoch 109/300\n",
      "711831/711831 [==============================] - 1s - loss: 0.5321 - acc: 0.7290     \n",
      "Epoch 110/300\n",
      "711831/711831 [==============================] - 1s - loss: 0.5320 - acc: 0.7289     \n",
      "Epoch 111/300\n",
      "711831/711831 [==============================] - 1s - loss: 0.5319 - acc: 0.7291     \n",
      "Epoch 112/300\n",
      "711831/711831 [==============================] - 1s - loss: 0.5319 - acc: 0.7287     \n",
      "Epoch 113/300\n",
      "711831/711831 [==============================] - 1s - loss: 0.5319 - acc: 0.7290     \n",
      "Epoch 114/300\n",
      "711831/711831 [==============================] - 1s - loss: 0.5319 - acc: 0.7291     \n",
      "Epoch 115/300\n",
      "711831/711831 [==============================] - 1s - loss: 0.5318 - acc: 0.7290     \n",
      "Epoch 116/300\n",
      "711831/711831 [==============================] - 1s - loss: 0.5319 - acc: 0.7287     \n",
      "Epoch 117/300\n",
      "711831/711831 [==============================] - 1s - loss: 0.5316 - acc: 0.7290     \n",
      "Epoch 118/300\n",
      "711831/711831 [==============================] - 1s - loss: 0.5317 - acc: 0.7292     \n",
      "Epoch 119/300\n",
      "711831/711831 [==============================] - 1s - loss: 0.5317 - acc: 0.7289     \n",
      "Epoch 120/300\n",
      "711831/711831 [==============================] - 1s - loss: 0.5316 - acc: 0.7292     \n",
      "Epoch 121/300\n",
      "711831/711831 [==============================] - 1s - loss: 0.5319 - acc: 0.7290     \n",
      "Epoch 122/300\n",
      "711831/711831 [==============================] - 1s - loss: 0.5317 - acc: 0.7289     \n",
      "Epoch 123/300\n",
      "711831/711831 [==============================] - 1s - loss: 0.5317 - acc: 0.7292     \n",
      "Epoch 124/300\n",
      "711831/711831 [==============================] - 1s - loss: 0.5317 - acc: 0.7291     \n",
      "Epoch 125/300\n",
      "711831/711831 [==============================] - 1s - loss: 0.5317 - acc: 0.7291     \n",
      "Epoch 126/300\n",
      "711831/711831 [==============================] - 1s - loss: 0.5316 - acc: 0.7294     \n",
      "Epoch 127/300\n",
      "711831/711831 [==============================] - 1s - loss: 0.5318 - acc: 0.7290     \n",
      "Epoch 128/300\n",
      "711831/711831 [==============================] - 1s - loss: 0.5314 - acc: 0.7292     \n",
      "Epoch 129/300\n",
      "711831/711831 [==============================] - 1s - loss: 0.5315 - acc: 0.7292     \n",
      "Epoch 130/300\n",
      "711831/711831 [==============================] - 1s - loss: 0.5314 - acc: 0.7293     \n",
      "Epoch 131/300\n",
      "711831/711831 [==============================] - 1s - loss: 0.5314 - acc: 0.7292     \n",
      "Epoch 132/300\n",
      "711831/711831 [==============================] - 1s - loss: 0.5316 - acc: 0.7289     \n",
      "Epoch 133/300\n",
      "711831/711831 [==============================] - 1s - loss: 0.5313 - acc: 0.7295     \n",
      "Epoch 134/300\n",
      "711831/711831 [==============================] - 1s - loss: 0.5314 - acc: 0.7291     \n",
      "Epoch 135/300\n",
      "711831/711831 [==============================] - 1s - loss: 0.5314 - acc: 0.7292     \n",
      "Epoch 136/300\n",
      "711831/711831 [==============================] - 1s - loss: 0.5314 - acc: 0.7293     \n",
      "Epoch 137/300\n",
      "711831/711831 [==============================] - 1s - loss: 0.5314 - acc: 0.7292     \n",
      "Epoch 138/300\n",
      "711831/711831 [==============================] - 1s - loss: 0.5313 - acc: 0.7293     \n",
      "Epoch 139/300\n",
      "711831/711831 [==============================] - 1s - loss: 0.5313 - acc: 0.7294     \n",
      "Epoch 140/300\n",
      "711831/711831 [==============================] - 1s - loss: 0.5314 - acc: 0.7291     \n",
      "Epoch 141/300\n",
      "711831/711831 [==============================] - 1s - loss: 0.5313 - acc: 0.7292     \n",
      "Epoch 142/300\n",
      "711831/711831 [==============================] - 1s - loss: 0.5313 - acc: 0.7292     \n",
      "Epoch 143/300\n",
      "711831/711831 [==============================] - 1s - loss: 0.5313 - acc: 0.7294     \n",
      "Epoch 144/300\n",
      "711831/711831 [==============================] - 1s - loss: 0.5312 - acc: 0.7294     \n",
      "Epoch 145/300\n",
      "711831/711831 [==============================] - 1s - loss: 0.5311 - acc: 0.7294     \n",
      "Epoch 146/300\n",
      "711831/711831 [==============================] - 1s - loss: 0.5312 - acc: 0.7295     \n",
      "Epoch 147/300\n",
      "711831/711831 [==============================] - 1s - loss: 0.5311 - acc: 0.7294     \n",
      "Epoch 148/300\n",
      "711831/711831 [==============================] - 1s - loss: 0.5310 - acc: 0.7296     \n",
      "Epoch 149/300\n",
      "711831/711831 [==============================] - 1s - loss: 0.5311 - acc: 0.7293     - ETA: 0s - loss: 0.5309 - acc: 0.729 - ETA: 0s - loss: 0.5305 - acc: \n",
      "Epoch 150/300\n",
      "711831/711831 [==============================] - 1s - loss: 0.5311 - acc: 0.7295     \n",
      "Epoch 151/300\n",
      "711831/711831 [==============================] - 1s - loss: 0.5311 - acc: 0.7296     \n",
      "Epoch 152/300\n",
      "711831/711831 [==============================] - 1s - loss: 0.5310 - acc: 0.7295     \n",
      "Epoch 153/300\n",
      "711831/711831 [==============================] - 1s - loss: 0.5311 - acc: 0.7294     \n",
      "Epoch 154/300\n",
      "711831/711831 [==============================] - 1s - loss: 0.5310 - acc: 0.7293     \n",
      "Epoch 155/300\n",
      "711831/711831 [==============================] - 1s - loss: 0.5311 - acc: 0.7296     \n",
      "Epoch 156/300\n",
      "711831/711831 [==============================] - 1s - loss: 0.5309 - acc: 0.7297     \n",
      "Epoch 157/300\n",
      "711831/711831 [==============================] - 1s - loss: 0.5309 - acc: 0.7296     \n",
      "Epoch 158/300\n",
      "711831/711831 [==============================] - 1s - loss: 0.5309 - acc: 0.7292     \n",
      "Epoch 159/300\n",
      "711831/711831 [==============================] - 1s - loss: 0.5309 - acc: 0.7294     \n",
      "Epoch 160/300\n",
      "711831/711831 [==============================] - 1s - loss: 0.5308 - acc: 0.7296     \n",
      "Epoch 161/300\n",
      "711831/711831 [==============================] - 1s - loss: 0.5309 - acc: 0.7295     \n",
      "Epoch 162/300\n",
      "711831/711831 [==============================] - 1s - loss: 0.5308 - acc: 0.7296     \n",
      "Epoch 163/300\n",
      "711831/711831 [==============================] - 1s - loss: 0.5308 - acc: 0.7295     \n",
      "Epoch 164/300\n"
     ]
    },
    {
     "name": "stdout",
     "output_type": "stream",
     "text": [
      "711831/711831 [==============================] - 1s - loss: 0.5309 - acc: 0.7295     \n",
      "Epoch 165/300\n",
      "711831/711831 [==============================] - 1s - loss: 0.5307 - acc: 0.7293     \n",
      "Epoch 166/300\n",
      "711831/711831 [==============================] - 1s - loss: 0.5309 - acc: 0.7297     \n",
      "Epoch 167/300\n",
      "711831/711831 [==============================] - 1s - loss: 0.5308 - acc: 0.7294     \n",
      "Epoch 168/300\n",
      "711831/711831 [==============================] - 1s - loss: 0.5309 - acc: 0.7296     \n",
      "Epoch 169/300\n",
      "711831/711831 [==============================] - 1s - loss: 0.5307 - acc: 0.7297     \n",
      "Epoch 170/300\n",
      "711831/711831 [==============================] - 1s - loss: 0.5307 - acc: 0.7296     \n",
      "Epoch 171/300\n",
      "711831/711831 [==============================] - 1s - loss: 0.5308 - acc: 0.7296     \n",
      "Epoch 172/300\n",
      "711831/711831 [==============================] - 1s - loss: 0.5308 - acc: 0.7294     \n",
      "Epoch 173/300\n",
      "711831/711831 [==============================] - 1s - loss: 0.5307 - acc: 0.7296     \n",
      "Epoch 174/300\n",
      "711831/711831 [==============================] - 1s - loss: 0.5306 - acc: 0.7296     \n",
      "Epoch 175/300\n",
      "711831/711831 [==============================] - 1s - loss: 0.5307 - acc: 0.7296     \n",
      "Epoch 176/300\n",
      "711831/711831 [==============================] - 1s - loss: 0.5306 - acc: 0.7295     \n",
      "Epoch 177/300\n",
      "711831/711831 [==============================] - 1s - loss: 0.5306 - acc: 0.7298     \n",
      "Epoch 178/300\n",
      "711831/711831 [==============================] - 1s - loss: 0.5306 - acc: 0.7295     \n",
      "Epoch 179/300\n",
      "711831/711831 [==============================] - 1s - loss: 0.5306 - acc: 0.7296     \n",
      "Epoch 180/300\n",
      "711831/711831 [==============================] - 1s - loss: 0.5306 - acc: 0.7296     \n",
      "Epoch 181/300\n",
      "711831/711831 [==============================] - 1s - loss: 0.5305 - acc: 0.7299     \n",
      "Epoch 182/300\n",
      "711831/711831 [==============================] - 1s - loss: 0.5305 - acc: 0.7295     \n",
      "Epoch 183/300\n",
      "711831/711831 [==============================] - 1s - loss: 0.5306 - acc: 0.7296     \n",
      "Epoch 184/300\n",
      "711831/711831 [==============================] - 1s - loss: 0.5305 - acc: 0.7298     \n",
      "Epoch 185/300\n",
      "711831/711831 [==============================] - 1s - loss: 0.5304 - acc: 0.7296     \n",
      "Epoch 186/300\n",
      "711831/711831 [==============================] - 1s - loss: 0.5303 - acc: 0.7298     \n",
      "Epoch 187/300\n",
      "711831/711831 [==============================] - 1s - loss: 0.5305 - acc: 0.7299     \n",
      "Epoch 188/300\n",
      "711831/711831 [==============================] - 1s - loss: 0.5304 - acc: 0.7295     \n",
      "Epoch 189/300\n",
      "711831/711831 [==============================] - 1s - loss: 0.5304 - acc: 0.7299     \n",
      "Epoch 190/300\n",
      "711831/711831 [==============================] - 1s - loss: 0.5304 - acc: 0.7297     \n",
      "Epoch 191/300\n",
      "711831/711831 [==============================] - 1s - loss: 0.5304 - acc: 0.7297     \n",
      "Epoch 192/300\n",
      "711831/711831 [==============================] - 1s - loss: 0.5304 - acc: 0.7299     \n",
      "Epoch 193/300\n",
      "711831/711831 [==============================] - 1s - loss: 0.5305 - acc: 0.7299     \n",
      "Epoch 194/300\n",
      "711831/711831 [==============================] - 1s - loss: 0.5304 - acc: 0.7297     \n",
      "Epoch 195/300\n",
      "711831/711831 [==============================] - 1s - loss: 0.5303 - acc: 0.7299     \n",
      "Epoch 196/300\n",
      "711831/711831 [==============================] - 1s - loss: 0.5306 - acc: 0.7298     \n",
      "Epoch 197/300\n",
      "711831/711831 [==============================] - 1s - loss: 0.5303 - acc: 0.7297     \n",
      "Epoch 198/300\n",
      "711831/711831 [==============================] - 1s - loss: 0.5304 - acc: 0.7298     \n",
      "Epoch 199/300\n",
      "711831/711831 [==============================] - 1s - loss: 0.5302 - acc: 0.7298     \n",
      "Epoch 200/300\n",
      "711831/711831 [==============================] - 1s - loss: 0.5302 - acc: 0.7299     \n",
      "Epoch 201/300\n",
      "711831/711831 [==============================] - 1s - loss: 0.5303 - acc: 0.7300     \n",
      "Epoch 202/300\n",
      "711831/711831 [==============================] - 1s - loss: 0.5302 - acc: 0.7299     \n",
      "Epoch 203/300\n",
      "711831/711831 [==============================] - 1s - loss: 0.5304 - acc: 0.7299     \n",
      "Epoch 204/300\n",
      "711831/711831 [==============================] - 1s - loss: 0.5301 - acc: 0.7298     \n",
      "Epoch 205/300\n",
      "711831/711831 [==============================] - 1s - loss: 0.5301 - acc: 0.7299     \n",
      "Epoch 206/300\n",
      "711831/711831 [==============================] - 1s - loss: 0.5304 - acc: 0.7297     \n",
      "Epoch 207/300\n",
      "711831/711831 [==============================] - 1s - loss: 0.5302 - acc: 0.7301     \n",
      "Epoch 208/300\n",
      "711831/711831 [==============================] - 1s - loss: 0.5301 - acc: 0.7302     \n",
      "Epoch 209/300\n",
      "711831/711831 [==============================] - 1s - loss: 0.5302 - acc: 0.7299     \n",
      "Epoch 210/300\n",
      "711831/711831 [==============================] - 1s - loss: 0.5301 - acc: 0.7301     \n",
      "Epoch 211/300\n",
      "711831/711831 [==============================] - 1s - loss: 0.5304 - acc: 0.7299     \n",
      "Epoch 212/300\n",
      "711831/711831 [==============================] - 1s - loss: 0.5301 - acc: 0.7299     \n",
      "Epoch 213/300\n",
      "711831/711831 [==============================] - 1s - loss: 0.5302 - acc: 0.7298     \n",
      "Epoch 214/300\n",
      "711831/711831 [==============================] - 1s - loss: 0.5300 - acc: 0.7301     \n",
      "Epoch 215/300\n",
      "711831/711831 [==============================] - 1s - loss: 0.5301 - acc: 0.7298     \n",
      "Epoch 216/300\n",
      "711831/711831 [==============================] - 1s - loss: 0.5300 - acc: 0.7299     \n",
      "Epoch 217/300\n",
      "711831/711831 [==============================] - 1s - loss: 0.5301 - acc: 0.7301     \n",
      "Epoch 218/300\n",
      "711831/711831 [==============================] - 1s - loss: 0.5301 - acc: 0.7301     \n",
      "Epoch 219/300\n",
      "711831/711831 [==============================] - 1s - loss: 0.5301 - acc: 0.7300     \n",
      "Epoch 220/300\n",
      "711831/711831 [==============================] - 1s - loss: 0.5300 - acc: 0.7300     \n",
      "Epoch 221/300\n",
      "711831/711831 [==============================] - 1s - loss: 0.5302 - acc: 0.7297     \n",
      "Epoch 222/300\n",
      "711831/711831 [==============================] - 1s - loss: 0.5301 - acc: 0.7300     \n",
      "Epoch 223/300\n",
      "711831/711831 [==============================] - 1s - loss: 0.5300 - acc: 0.7302     \n",
      "Epoch 224/300\n",
      "711831/711831 [==============================] - 1s - loss: 0.5300 - acc: 0.7298     \n",
      "Epoch 225/300\n",
      "711831/711831 [==============================] - 1s - loss: 0.5300 - acc: 0.7302     \n",
      "Epoch 226/300\n",
      "711831/711831 [==============================] - 1s - loss: 0.5300 - acc: 0.7300     \n",
      "Epoch 227/300\n",
      "711831/711831 [==============================] - 1s - loss: 0.5299 - acc: 0.7302     \n",
      "Epoch 228/300\n",
      "711831/711831 [==============================] - 1s - loss: 0.5301 - acc: 0.7301     \n",
      "Epoch 229/300\n",
      "711831/711831 [==============================] - 1s - loss: 0.5300 - acc: 0.7303     \n",
      "Epoch 230/300\n",
      "711831/711831 [==============================] - 1s - loss: 0.5299 - acc: 0.7301     \n",
      "Epoch 231/300\n",
      "711831/711831 [==============================] - 1s - loss: 0.5301 - acc: 0.7301     \n",
      "Epoch 232/300\n",
      "711831/711831 [==============================] - 1s - loss: 0.5300 - acc: 0.7300     \n",
      "Epoch 233/300\n",
      "711831/711831 [==============================] - 1s - loss: 0.5302 - acc: 0.7303     \n",
      "Epoch 234/300\n",
      "711831/711831 [==============================] - 1s - loss: 0.5299 - acc: 0.7301     \n",
      "Epoch 235/300\n",
      "711831/711831 [==============================] - 1s - loss: 0.5298 - acc: 0.7303     \n",
      "Epoch 236/300\n",
      "711831/711831 [==============================] - 1s - loss: 0.5299 - acc: 0.7302     \n",
      "Epoch 237/300\n",
      "711831/711831 [==============================] - 1s - loss: 0.5299 - acc: 0.7301     \n",
      "Epoch 238/300\n",
      "711831/711831 [==============================] - 1s - loss: 0.5299 - acc: 0.7303     \n",
      "Epoch 239/300\n",
      "711831/711831 [==============================] - 1s - loss: 0.5298 - acc: 0.7304     \n",
      "Epoch 240/300\n",
      "711831/711831 [==============================] - 1s - loss: 0.5298 - acc: 0.7302     \n",
      "Epoch 241/300\n",
      "711831/711831 [==============================] - 1s - loss: 0.5299 - acc: 0.7302     \n",
      "Epoch 242/300\n",
      "711831/711831 [==============================] - 1s - loss: 0.5298 - acc: 0.7302     \n",
      "Epoch 243/300\n",
      "711831/711831 [==============================] - 1s - loss: 0.5298 - acc: 0.7300     \n",
      "Epoch 244/300\n",
      "711831/711831 [==============================] - 1s - loss: 0.5298 - acc: 0.7301     \n",
      "Epoch 245/300\n",
      "711831/711831 [==============================] - 1s - loss: 0.5298 - acc: 0.7303     \n",
      "Epoch 246/300\n"
     ]
    },
    {
     "name": "stdout",
     "output_type": "stream",
     "text": [
      "711831/711831 [==============================] - 1s - loss: 0.5298 - acc: 0.7303     \n",
      "Epoch 247/300\n",
      "711831/711831 [==============================] - 1s - loss: 0.5298 - acc: 0.7301     \n",
      "Epoch 248/300\n",
      "711831/711831 [==============================] - 1s - loss: 0.5297 - acc: 0.7301     \n",
      "Epoch 249/300\n",
      "711831/711831 [==============================] - 1s - loss: 0.5298 - acc: 0.7301     \n",
      "Epoch 250/300\n",
      "711831/711831 [==============================] - 1s - loss: 0.5298 - acc: 0.7303     \n",
      "Epoch 251/300\n",
      "711831/711831 [==============================] - 1s - loss: 0.5297 - acc: 0.7302     \n",
      "Epoch 252/300\n",
      "711831/711831 [==============================] - 1s - loss: 0.5298 - acc: 0.7304     \n",
      "Epoch 253/300\n",
      "711831/711831 [==============================] - 1s - loss: 0.5297 - acc: 0.7303     \n",
      "Epoch 254/300\n",
      "711831/711831 [==============================] - 1s - loss: 0.5297 - acc: 0.7304     \n",
      "Epoch 255/300\n",
      "711831/711831 [==============================] - 1s - loss: 0.5298 - acc: 0.7302     \n",
      "Epoch 256/300\n",
      "711831/711831 [==============================] - 1s - loss: 0.5298 - acc: 0.7305     \n",
      "Epoch 257/300\n",
      "711831/711831 [==============================] - 1s - loss: 0.5298 - acc: 0.7303     \n",
      "Epoch 258/300\n",
      "711831/711831 [==============================] - 1s - loss: 0.5297 - acc: 0.7302     \n",
      "Epoch 259/300\n",
      "711831/711831 [==============================] - 1s - loss: 0.5297 - acc: 0.7302     \n",
      "Epoch 260/300\n",
      "711831/711831 [==============================] - 1s - loss: 0.5296 - acc: 0.7304     \n",
      "Epoch 261/300\n",
      "711831/711831 [==============================] - 1s - loss: 0.5296 - acc: 0.7302     \n",
      "Epoch 262/300\n",
      "711831/711831 [==============================] - 1s - loss: 0.5296 - acc: 0.7303     \n",
      "Epoch 263/300\n",
      "711831/711831 [==============================] - 1s - loss: 0.5296 - acc: 0.7304     \n",
      "Epoch 264/300\n",
      "711831/711831 [==============================] - 1s - loss: 0.5297 - acc: 0.7301     \n",
      "Epoch 265/300\n",
      "711831/711831 [==============================] - 1s - loss: 0.5296 - acc: 0.7303     \n",
      "Epoch 266/300\n",
      "711831/711831 [==============================] - 1s - loss: 0.5296 - acc: 0.7302     \n",
      "Epoch 267/300\n",
      "711831/711831 [==============================] - 1s - loss: 0.5295 - acc: 0.7305     \n",
      "Epoch 268/300\n",
      "711831/711831 [==============================] - 1s - loss: 0.5296 - acc: 0.7305     \n",
      "Epoch 269/300\n",
      "711831/711831 [==============================] - 1s - loss: 0.5296 - acc: 0.7304     \n",
      "Epoch 270/300\n",
      "711831/711831 [==============================] - 1s - loss: 0.5295 - acc: 0.7303     \n",
      "Epoch 271/300\n",
      "711831/711831 [==============================] - 1s - loss: 0.5297 - acc: 0.7302     \n",
      "Epoch 272/300\n",
      "711831/711831 [==============================] - 1s - loss: 0.5295 - acc: 0.7302     \n",
      "Epoch 273/300\n",
      "711831/711831 [==============================] - 1s - loss: 0.5295 - acc: 0.7304     \n",
      "Epoch 274/300\n",
      "711831/711831 [==============================] - 1s - loss: 0.5295 - acc: 0.7303     \n",
      "Epoch 275/300\n",
      "711831/711831 [==============================] - 1s - loss: 0.5296 - acc: 0.7303     \n",
      "Epoch 276/300\n",
      "711831/711831 [==============================] - 1s - loss: 0.5296 - acc: 0.7305     \n",
      "Epoch 277/300\n",
      "711831/711831 [==============================] - 1s - loss: 0.5296 - acc: 0.7305     \n",
      "Epoch 278/300\n",
      "711831/711831 [==============================] - 1s - loss: 0.5294 - acc: 0.7304     \n",
      "Epoch 279/300\n",
      "711831/711831 [==============================] - 1s - loss: 0.5295 - acc: 0.7301     \n",
      "Epoch 280/300\n",
      "711831/711831 [==============================] - 1s - loss: 0.5295 - acc: 0.7304     \n",
      "Epoch 281/300\n",
      "711831/711831 [==============================] - 1s - loss: 0.5295 - acc: 0.7300     \n",
      "Epoch 282/300\n",
      "711831/711831 [==============================] - 1s - loss: 0.5296 - acc: 0.7301     \n",
      "Epoch 283/300\n",
      "711831/711831 [==============================] - 1s - loss: 0.5294 - acc: 0.7303     \n",
      "Epoch 284/300\n",
      "711831/711831 [==============================] - 1s - loss: 0.5294 - acc: 0.7308     \n",
      "Epoch 285/300\n",
      "711831/711831 [==============================] - 1s - loss: 0.5294 - acc: 0.7304     \n",
      "Epoch 286/300\n",
      "711831/711831 [==============================] - 1s - loss: 0.5295 - acc: 0.7305     \n",
      "Epoch 287/300\n",
      "711831/711831 [==============================] - 1s - loss: 0.5294 - acc: 0.7304     \n",
      "Epoch 288/300\n",
      "711831/711831 [==============================] - 1s - loss: 0.5295 - acc: 0.7304     \n",
      "Epoch 289/300\n",
      "711831/711831 [==============================] - 1s - loss: 0.5294 - acc: 0.7304     \n",
      "Epoch 290/300\n",
      "711831/711831 [==============================] - 1s - loss: 0.5294 - acc: 0.7303     \n",
      "Epoch 291/300\n",
      "711831/711831 [==============================] - 1s - loss: 0.5293 - acc: 0.7306     \n",
      "Epoch 292/300\n",
      "711831/711831 [==============================] - 1s - loss: 0.5293 - acc: 0.7307     \n",
      "Epoch 293/300\n",
      "711831/711831 [==============================] - 1s - loss: 0.5293 - acc: 0.7304     \n",
      "Epoch 294/300\n",
      "711831/711831 [==============================] - 1s - loss: 0.5295 - acc: 0.7302     \n",
      "Epoch 295/300\n",
      "711831/711831 [==============================] - 1s - loss: 0.5294 - acc: 0.7304     \n",
      "Epoch 296/300\n",
      "711831/711831 [==============================] - 1s - loss: 0.5293 - acc: 0.7304     \n",
      "Epoch 297/300\n",
      "711831/711831 [==============================] - 1s - loss: 0.5295 - acc: 0.7305     \n",
      "Epoch 298/300\n",
      "711831/711831 [==============================] - 1s - loss: 0.5295 - acc: 0.7304     \n",
      "Epoch 299/300\n",
      "711831/711831 [==============================] - 1s - loss: 0.5294 - acc: 0.7305     \n",
      "Epoch 300/300\n",
      "711831/711831 [==============================] - 1s - loss: 0.5294 - acc: 0.7306     \n"
     ]
    },
    {
     "data": {
      "text/plain": [
       "<keras.callbacks.History at 0x16e09415898>"
      ]
     },
     "execution_count": 37,
     "metadata": {},
     "output_type": "execute_result"
    }
   ],
   "source": [
    "classifier.fit(X_train, Y_train, batch_size = 15000, epochs = 300)"
   ]
  },
  {
   "cell_type": "markdown",
   "metadata": {},
   "source": [
    "AUC "
   ]
  },
  {
   "cell_type": "code",
   "execution_count": 49,
   "metadata": {},
   "outputs": [
    {
     "data": {
      "text/plain": [
       "0.76551082850454577"
      ]
     },
     "execution_count": 49,
     "metadata": {},
     "output_type": "execute_result"
    }
   ],
   "source": [
    "from sklearn import metrics\n",
    "y_pred = classifier.predict(X_test)\n",
    "fpr, tpr, thresholds = metrics.roc_curve(Y_test, y_pred, pos_label=1)\n",
    "roc_auc = metrics.auc(fpr, tpr)\n",
    "roc_auc"
   ]
  },
  {
   "cell_type": "code",
   "execution_count": 50,
   "metadata": {},
   "outputs": [
    {
     "data": {
      "text/plain": [
       "(113429,)"
      ]
     },
     "execution_count": 50,
     "metadata": {},
     "output_type": "execute_result"
    }
   ],
   "source": [
    "fpr.shape"
   ]
  },
  {
   "cell_type": "code",
   "execution_count": 51,
   "metadata": {},
   "outputs": [
    {
     "data": {
      "text/plain": [
       "(113429,)"
      ]
     },
     "execution_count": 51,
     "metadata": {},
     "output_type": "execute_result"
    }
   ],
   "source": [
    "tpr.shape"
   ]
  },
  {
   "cell_type": "code",
   "execution_count": 52,
   "metadata": {
    "collapsed": true
   },
   "outputs": [],
   "source": [
    "import matplotlib.pyplot as plt"
   ]
  },
  {
   "cell_type": "code",
   "execution_count": 56,
   "metadata": {},
   "outputs": [
    {
     "data": {
      "text/plain": [
       "0.77933538202581354"
      ]
     },
     "execution_count": 56,
     "metadata": {},
     "output_type": "execute_result"
    }
   ],
   "source": [
    "from sklearn import metrics\n",
    "Y_train_pred = classifier.predict(X_train)\n",
    "fpr_train, tpr_train, thresholds_train = metrics.roc_curve(Y_train, Y_train_pred, pos_label=1)\n",
    "roc_auc_train = metrics.auc(fpr_train, tpr_train)\n",
    "roc_auc_train"
   ]
  },
  {
   "cell_type": "code",
   "execution_count": 68,
   "metadata": {},
   "outputs": [
    {
     "data": {
      "image/png": "[encoded data removed]",
      "text/plain": [
       "<matplotlib.figure.Figure at 0x16e0abe6c88>"
      ]
     },
     "metadata": {},
     "output_type": "display_data"
    }
   ],
   "source": [
    "plt.figure()\n",
    "lw = 2\n",
    "plt.plot(fpr_train, tpr_train, color='deeppink',\n",
    "         lw=lw, label='ROC curve_train (area = %0.2f)' % roc_auc_train)\n",
    "plt.plot(fpr, tpr, color='lawngreen',\n",
    "         lw=lw, label='ROC curve_test (area = %0.2f)' % roc_auc)\n",
    "plt.plot([0, 1], [0, 1], color='navy', lw=lw, linestyle='--')\n",
    "plt.xlim([0.0, 1.0])\n",
    "plt.ylim([0.0, 1.05])\n",
    "plt.xlabel('False Positive Rate')\n",
    "plt.ylabel('True Positive Rate')\n",
    "plt.title('Receiver operating characteristic example')\n",
    "plt.legend(loc=\"lower right\")\n",
    "plt.show()"
   ]
  },
  {
   "cell_type": "code",
   "execution_count": 69,
   "metadata": {
    "collapsed": true
   },
   "outputs": [],
   "source": [
    "y_pred = (y_pred >= 0.5)"
   ]
  },
  {
   "cell_type": "code",
   "execution_count": 70,
   "metadata": {
    "collapsed": true
   },
   "outputs": [],
   "source": [
    "from sklearn.metrics import confusion_matrix\n",
    "cm = confusion_matrix(Y_test, y_pred)"
   ]
  },
  {
   "cell_type": "markdown",
   "metadata": {},
   "source": [
    "overall accuracy"
   ]
  },
  {
   "cell_type": "code",
   "execution_count": 71,
   "metadata": {},
   "outputs": [
    {
     "data": {
      "text/plain": [
       "0.72193358267419716"
      ]
     },
     "execution_count": 71,
     "metadata": {},
     "output_type": "execute_result"
    }
   ],
   "source": [
    "(cm[0,0]+cm[1,1])/cm.sum()"
   ]
  },
  {
   "cell_type": "markdown",
   "metadata": {},
   "source": [
    "Accuracy of majority vote with out model (all are negative option)"
   ]
  },
  {
   "cell_type": "code",
   "execution_count": 72,
   "metadata": {},
   "outputs": [
    {
     "data": {
      "text/plain": [
       "0.6410081587564862"
      ]
     },
     "execution_count": 72,
     "metadata": {},
     "output_type": "execute_result"
    }
   ],
   "source": [
    "(cm[0,0]+cm[0,1])/cm.sum()"
   ]
  },
  {
   "cell_type": "markdown",
   "metadata": {},
   "source": [
    "percentage of who really not give 5 star against number of we think they do not give 5 star"
   ]
  },
  {
   "cell_type": "code",
   "execution_count": 73,
   "metadata": {
    "collapsed": true
   },
   "outputs": [],
   "source": [
    "y_pred = classifier.predict(X_test)\n",
    "y_pred = (y_pred >0.2)"
   ]
  },
  {
   "cell_type": "code",
   "execution_count": 74,
   "metadata": {
    "collapsed": true
   },
   "outputs": [],
   "source": [
    "cm = confusion_matrix(Y_test, y_pred)"
   ]
  },
  {
   "cell_type": "code",
   "execution_count": 75,
   "metadata": {},
   "outputs": [
    {
     "data": {
      "text/plain": [
       "array([[ 76875, 118678],\n",
       "       [ 10652,  98866]], dtype=int64)"
      ]
     },
     "execution_count": 75,
     "metadata": {},
     "output_type": "execute_result"
    }
   ],
   "source": [
    "cm"
   ]
  },
  {
   "cell_type": "markdown",
   "metadata": {},
   "source": [
    "we are able to tell 87.83% customer who will not give 5 star.(specificity)"
   ]
  },
  {
   "cell_type": "code",
   "execution_count": 78,
   "metadata": {},
   "outputs": [
    {
     "data": {
      "text/plain": [
       "0.87830041015915095"
      ]
     },
     "execution_count": 78,
     "metadata": {},
     "output_type": "execute_result"
    }
   ],
   "source": [
    "cm[0,0]/(cm[0,0]+cm[1,0])"
   ]
  },
  {
   "cell_type": "markdown",
   "metadata": {},
   "source": [
    "Overall accuracy with 0.2 postive cut-off."
   ]
  },
  {
   "cell_type": "code",
   "execution_count": 79,
   "metadata": {},
   "outputs": [
    {
     "data": {
      "text/plain": [
       "0.57606589941357911"
      ]
     },
     "execution_count": 79,
     "metadata": {},
     "output_type": "execute_result"
    }
   ],
   "source": [
    "(cm[0,0]+cm[1,1])/cm.sum()"
   ]
  },
  {
   "cell_type": "markdown",
   "metadata": {},
   "source": [
    "percentage of who really give 5 star against number of we think they give 5 star"
   ]
  },
  {
   "cell_type": "code",
   "execution_count": 84,
   "metadata": {
    "collapsed": true
   },
   "outputs": [],
   "source": [
    "y_pred = classifier.predict(X_test)\n",
    "y_pred = (y_pred >0.8)"
   ]
  },
  {
   "cell_type": "code",
   "execution_count": 85,
   "metadata": {
    "collapsed": true
   },
   "outputs": [],
   "source": [
    "cm = confusion_matrix(Y_test, y_pred)"
   ]
  },
  {
   "cell_type": "code",
   "execution_count": 86,
   "metadata": {},
   "outputs": [
    {
     "data": {
      "text/plain": [
       "array([[193633,   1920],\n",
       "       [ 96703,  12815]], dtype=int64)"
      ]
     },
     "execution_count": 86,
     "metadata": {},
     "output_type": "execute_result"
    }
   ],
   "source": [
    "cm"
   ]
  },
  {
   "cell_type": "markdown",
   "metadata": {},
   "source": [
    "percentage of who really give 5 star against number of we think they give 5 star is 86.96%.(precision)"
   ]
  },
  {
   "cell_type": "code",
   "execution_count": 90,
   "metadata": {
    "scrolled": true
   },
   "outputs": [
    {
     "data": {
      "text/plain": [
       "0.86969799796403124"
      ]
     },
     "execution_count": 90,
     "metadata": {},
     "output_type": "execute_result"
    }
   ],
   "source": [
    "cm[1,1]/(cm[1,1]+cm[0,1])"
   ]
  },
  {
   "cell_type": "markdown",
   "metadata": {},
   "source": [
    "Overall accuracy with 0.8 postive cut-off."
   ]
  },
  {
   "cell_type": "code",
   "execution_count": 91,
   "metadata": {},
   "outputs": [
    {
     "data": {
      "text/plain": [
       "0.67672115671433863"
      ]
     },
     "execution_count": 91,
     "metadata": {},
     "output_type": "execute_result"
    }
   ],
   "source": [
    "(cm[0,0]+cm[1,1])/cm.sum()"
   ]
  },
  {
   "cell_type": "code",
   "execution_count": null,
   "metadata": {
    "collapsed": true
   },
   "outputs": [],
   "source": []
  }
 ],
 "metadata": {
  "anaconda-cloud": {},
  "kernelspec": {
   "display_name": "Python 3",
   "language": "python",
   "name": "python3"
  },
  "language_info": {
   "codemirror_mode": {
    "name": "ipython",
    "version": 3
   },
   "file_extension": ".py",
   "mimetype": "text/x-python",
   "name": "python",
   "nbconvert_exporter": "python",
   "pygments_lexer": "ipython3",
   "version": "3.6.3"
  }
 },
 "nbformat": 4,
 "nbformat_minor": 2
}
